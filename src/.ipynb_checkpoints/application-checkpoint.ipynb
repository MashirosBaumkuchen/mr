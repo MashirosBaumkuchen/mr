{
 "cells": [
  {
   "cell_type": "code",
   "execution_count": 1,
   "metadata": {},
   "outputs": [],
   "source": [
    "import numpy as np\n",
    "import pandas as pd\n",
    "train = pd.read_csv('../input/train.csv')"
   ]
  },
  {
   "cell_type": "code",
   "execution_count": 2,
   "metadata": {},
   "outputs": [],
   "source": [
    "import matplotlib.pyplot as plt\n",
    "import seaborn as sns # for making plots with seaborn"
   ]
  },
  {
   "cell_type": "code",
   "execution_count": 3,
   "metadata": {},
   "outputs": [],
   "source": [
    "def format_(dataframe, feature, fillna='0.0', astype=np.float32, normalize=True):\n",
    "    print('format', feature)\n",
    "    dataframe[feature] = dataframe[feature].fillna(fillna)\n",
    "    dataframe[feature] = dataframe[feature].astype(np.float32)\n",
    "    if normalize:\n",
    "        dataframe.loc[dataframe[feature]>1, feature] = 1\n",
    "        dataframe.loc[dataframe[feature]<0, feature] = 0\n",
    "    return dataframe"
   ]
  },
  {
   "cell_type": "code",
   "execution_count": 4,
   "metadata": {},
   "outputs": [],
   "source": [
    "from sklearn.preprocessing import MinMaxScaler\n",
    "def normalized_feature(dataframe, feature):\n",
    "    print('start scale', feature)\n",
    "    mms = MinMaxScaler()\n",
    "    return mms.fit_transform(dataframe[feature].values.reshape(-1, 1))"
   ]
  },
  {
   "cell_type": "code",
   "execution_count": 5,
   "metadata": {},
   "outputs": [
    {
     "name": "stdout",
     "output_type": "stream",
     "text": [
      "format voice_connection\n",
      "format wifi_connection\n",
      "format voice_convert_1\n",
      "format convert_rate\n",
      "format rrc_connection\n",
      "format erab_connection\n",
      "format esrvcc_convert\n",
      "format video_connection\n",
      "format voice_convert_2\n",
      "format pdcch_cce\n",
      "format voice_disconnection\n",
      "format wifi_disconnection\n",
      "format wifi_disconnection_1\n",
      "format erab_trash\n",
      "format prb_pull\n",
      "format prb_push\n",
      "format video_disconnection\n",
      "format voice_pull_delay\n",
      "start scale voice_pull_delay\n",
      "format voice_count\n",
      "start scale voice_count\n",
      "format data_count\n",
      "start scale data_count\n",
      "format rrc_max\n",
      "start scale rrc_max\n",
      "format csgb_rrc\n",
      "start scale csgb_rrc\n",
      "format rrc_2g\n",
      "start scale rrc_2g\n",
      "format rrc_3g\n",
      "start scale rrc_3g\n",
      "format rrc_num\n",
      "start scale rrc_num\n",
      "format voice_push_miss\n",
      "start scale voice_push_miss\n",
      "format voice_pull_miss\n",
      "start scale voice_pull_miss\n"
     ]
    }
   ],
   "source": [
    "# rate 1\n",
    "posi_f = [\n",
    "    'voice_connection', 'wifi_connection',\n",
    "    'voice_convert_1', 'convert_rate',\n",
    "    'rrc_connection', 'erab_connection',\n",
    "    'esrvcc_convert',\n",
    "    'video_connection', 'voice_convert_2', 'pdcch_cce'\n",
    "]\n",
    "\n",
    "# rate 0\n",
    "navg_f = [\n",
    "    'voice_disconnection', 'wifi_disconnection',\n",
    "    'wifi_disconnection_1',\n",
    "    'erab_trash', 'prb_pull', 'prb_push',\n",
    "    'video_disconnection'\n",
    "]\n",
    "\n",
    "# count \n",
    "count_f = [\n",
    "    'voice_pull_delay','voice_count', 'data_count', \n",
    "    'rrc_max', 'csgb_rrc', 'rrc_2g', 'rrc_3g', 'rrc_num',\n",
    "    'voice_push_miss', 'voice_pull_miss'\n",
    "]\n",
    "\n",
    "for feature in posi_f:\n",
    "    train = format_(train, feature, fillna=train[feature].mean())\n",
    "    \n",
    "for feature in navg_f:\n",
    "    train = format_(train, feature, fillna=train[feature].mean())\n",
    "    \n",
    "for feature in count_f:\n",
    "    train = format_(train, feature, fillna=train[feature].mean(), normalize=False)\n",
    "    train[feature] = normalized_feature(train, feature)"
   ]
  },
  {
   "cell_type": "code",
   "execution_count": 6,
   "metadata": {},
   "outputs": [],
   "source": [
    "train.mr_low = train.mr_low.astype(np.float32)\n",
    "train.mr_high = train.mr_high.astype(np.float32)"
   ]
  },
  {
   "cell_type": "code",
   "execution_count": 7,
   "metadata": {},
   "outputs": [],
   "source": [
    "train['datetime'] = train['time'].apply(lambda x: str(x).split(' ')[0])"
   ]
  },
  {
   "cell_type": "code",
   "execution_count": 8,
   "metadata": {},
   "outputs": [
    {
     "name": "stdout",
     "output_type": "stream",
     "text": [
      "<class 'pandas.core.frame.DataFrame'>\n",
      "RangeIndex: 8457665 entries, 0 to 8457664\n",
      "Data columns (total 34 columns):\n",
      "city                    object\n",
      "region                  object\n",
      "time                    object\n",
      "cgi                     object\n",
      "voice_connection        float32\n",
      "wifi_connection         float32\n",
      "video_connection        float32\n",
      "voice_disconnection     float32\n",
      "wifi_disconnection      float32\n",
      "video_disconnection     float32\n",
      "esrvcc_convert          float32\n",
      "voice_convert_1         float32\n",
      "convert_rate            float32\n",
      "voice_convert_2         float32\n",
      "voice_push_miss         float32\n",
      "voice_pull_miss         float32\n",
      "voice_pull_delay        float32\n",
      "voice_count             float32\n",
      "data_count              float32\n",
      "rrc_connection          float32\n",
      "erab_connection         float32\n",
      "erab_trash              float32\n",
      "wifi_disconnection_1    float32\n",
      "prb_push                float32\n",
      "prb_pull                float32\n",
      "pdcch_cce               float32\n",
      "rrc_max                 float32\n",
      "csgb_rrc                float32\n",
      "rrc_2g                  float32\n",
      "rrc_3g                  float32\n",
      "rrc_num                 float32\n",
      "mr_low                  float32\n",
      "mr_high                 float32\n",
      "datetime                object\n",
      "dtypes: float32(29), object(5)\n",
      "memory usage: 1.2+ GB\n"
     ]
    }
   ],
   "source": [
    "train.info()"
   ]
  },
  {
   "cell_type": "code",
   "execution_count": 9,
   "metadata": {},
   "outputs": [],
   "source": [
    "test_set = train[train.loc[:,('datetime')]=='2018-05-06']\n",
    "\n",
    "train_set = train[train.loc[:,('datetime')]=='2018-05-05']\n",
    "train_set = pd.concat([train_set, train[train.loc[:,('datetime')]=='2018-05-04']])\n",
    "train_set = pd.concat([train_set, train[train.loc[:,('datetime')]=='2018-05-03']])\n",
    "train_set = pd.concat([train_set, train[train.loc[:,('datetime')]=='2018-05-02']])\n",
    "train_set = pd.concat([train_set, train[train.loc[:,('datetime')]=='2018-05-01']])\n",
    "train_set = pd.concat([train_set, train[train.loc[:,('datetime')]=='2018-04-30']])\n",
    "\n",
    "test_set = test_set.drop(['datetime'], axis=1)\n",
    "train_set = train_set.drop(['datetime'], axis=1)"
   ]
  },
  {
   "cell_type": "code",
   "execution_count": 10,
   "metadata": {},
   "outputs": [
    {
     "data": {
      "text/plain": [
       "Index(['city', 'region', 'time', 'cgi', 'voice_connection', 'wifi_connection',\n",
       "       'video_connection', 'voice_disconnection', 'wifi_disconnection',\n",
       "       'video_disconnection', 'esrvcc_convert', 'voice_convert_1',\n",
       "       'convert_rate', 'voice_convert_2', 'voice_push_miss', 'voice_pull_miss',\n",
       "       'voice_pull_delay', 'voice_count', 'data_count', 'rrc_connection',\n",
       "       'erab_connection', 'erab_trash', 'wifi_disconnection_1', 'prb_push',\n",
       "       'prb_pull', 'pdcch_cce', 'rrc_max', 'csgb_rrc', 'rrc_2g', 'rrc_3g',\n",
       "       'rrc_num', 'mr_low', 'mr_high'],\n",
       "      dtype='object')"
      ]
     },
     "execution_count": 10,
     "metadata": {},
     "output_type": "execute_result"
    }
   ],
   "source": [
    "train_set.columns\n",
    "# Index(['地市', '区县', '时间', 'CGI', 'VOLTE语音接通率', '无线接通率', 'VOLTE视频接通率',\n",
    "#        'VOLTE语音掉话率', '无线掉线率', 'VOLTE视频掉话率', 'ESRVCC切换成功率',\n",
    "#        'VOLTE语音用户QCI等于1切换成功率', '切换成功率', 'VOLTE视频用户QCI等于2切换成功率', 'VOLTE语音上行丢包率',\n",
    "#        'VOLTE语音下行丢包率', 'VOLTE下行时延MS', 'VOLTE语音话务量ERL', '数据业务量GB', 'RRC连接建立成功率',\n",
    "#        'ERAB建立成功率', 'ERAB拥塞率', '无线掉线率.1', '上行PRB平均利用率', '下行PRB平均利用率',\n",
    "#        'PDCCH信道CCE占用率', 'RRC连接最大数', 'CSFB触发的RRC连接释放次数', '重定向到2G的RRC连接释放次数',\n",
    "#        '重定向到3G的RRC连接释放次数', '有效RRC连接最大数'],\n",
    "#       dtype='object')"
   ]
  },
  {
   "cell_type": "code",
   "execution_count": 11,
   "metadata": {},
   "outputs": [],
   "source": [
    "features = ['voice_convert_2', 'prb_pull', 'pdcch_cce', 'rrc_max']\n",
    "# features = ['video_connection', 'prb_pull', 'rrc_max']\n",
    "# features = ['data_count', 'prb_push', 'rrc_num', 'rrc_max', 'erab_trash']\n",
    "# features = ['convert_rate', 'rrc_num', 'rrc_max']\n",
    "# features = ['wifi_connection', 'erab_trash', 'erab_connection', 'rrc_connection']\n",
    "# features = ['wifi_disconnection', 'erab_trash', 'erab_connection']\n",
    "# features = ['voice_disconnection', 'rrc_3g']\n",
    "# features = ['voice_count', 'rrc_3g']\n",
    "# features = ['voice_connection', 'esrvcc_convert']"
   ]
  },
  {
   "cell_type": "code",
   "execution_count": 12,
   "metadata": {},
   "outputs": [],
   "source": [
    "train_ = train_set[features]\n",
    "test_ = test_set[features]"
   ]
  },
  {
   "cell_type": "code",
   "execution_count": 21,
   "metadata": {},
   "outputs": [
    {
     "data": {
      "text/plain": [
       "(7243326, 4)"
      ]
     },
     "execution_count": 21,
     "metadata": {},
     "output_type": "execute_result"
    }
   ],
   "source": [
    "train_.shape"
   ]
  },
  {
   "cell_type": "code",
   "execution_count": 13,
   "metadata": {},
   "outputs": [],
   "source": [
    "import lightgbm as lgb\n",
    "from sklearn import metrics\n",
    "from sklearn.model_selection import train_test_split\n",
    "import gc"
   ]
  },
  {
   "cell_type": "code",
   "execution_count": 14,
   "metadata": {},
   "outputs": [],
   "source": [
    "test_y = test_['voice_convert_2']\n",
    "test_x = test_.drop(['voice_convert_2'], axis=1)"
   ]
  },
  {
   "cell_type": "code",
   "execution_count": 15,
   "metadata": {},
   "outputs": [],
   "source": [
    "train_y = train_['voice_convert_2']\n",
    "train_x = train_.drop(['voice_convert_2'], axis=1)"
   ]
  },
  {
   "cell_type": "code",
   "execution_count": 16,
   "metadata": {},
   "outputs": [],
   "source": [
    "trainx, validx, trainy, validy = train_test_split(\n",
    "    train_x, \n",
    "    train_y, \n",
    "    test_size=0.1, \n",
    "    random_state=432423\n",
    ")"
   ]
  },
  {
   "cell_type": "code",
   "execution_count": 17,
   "metadata": {},
   "outputs": [
    {
     "name": "stdout",
     "output_type": "stream",
     "text": [
      "Training until validation scores don't improve for 100 rounds.\n",
      "[50]\ttrain's l2: 6.90612e-06\tvalid's l2: 1.36323e-05\n",
      "[100]\ttrain's l2: 6.8956e-06\tvalid's l2: 1.36393e-05\n",
      "Early stopping, best iteration is:\n",
      "[1]\ttrain's l2: 6.94302e-06\tvalid's l2: 1.36152e-05\n"
     ]
    }
   ],
   "source": [
    "train_data = lgb.Dataset(trainx, trainy)\n",
    "valid_data = lgb.Dataset(validx, validy)\n",
    "\n",
    "params = {\n",
    "#     'application': 'binary',\n",
    "    'boosting': 'gbdt',\n",
    "    'num_leaves': 80,\n",
    "    'min_data_in_leaf': 50,\n",
    "    'learning_rate': 0.05,\n",
    "    'zero_as_missing': True,\n",
    "    'lambda_l1': 0,\n",
    "    'lambda_l2': 0,\n",
    "    'metric':{'mse'}\n",
    "}\n",
    "\n",
    "model = lgb.train(\n",
    "    params, train_data, 1000,\n",
    "    valid_sets=[train_data, valid_data],\n",
    "    valid_names=['train', 'valid'],\n",
    "    verbose_eval=50,\n",
    "    early_stopping_rounds=100\n",
    ")"
   ]
  },
  {
   "cell_type": "code",
   "execution_count": 19,
   "metadata": {},
   "outputs": [
    {
     "name": "stdout",
     "output_type": "stream",
     "text": [
      "1.5481429335116575e-05\n"
     ]
    }
   ],
   "source": [
    "pre = model.predict(test_x)\n",
    "from sklearn import metrics\n",
    "valid_auc = metrics.mean_squared_error(test_y, pre)\n",
    "print(valid_auc)"
   ]
  },
  {
   "cell_type": "code",
   "execution_count": 20,
   "metadata": {},
   "outputs": [
    {
     "data": {
      "text/plain": [
       "<matplotlib.axes._subplots.AxesSubplot at 0x113e31f98>"
      ]
     },
     "execution_count": 20,
     "metadata": {},
     "output_type": "execute_result"
    },
    {
     "data": {
      "image/png": "[encoded data removed]",
      "text/plain": [
       "<Figure size 1080x576 with 1 Axes>"
      ]
     },
     "metadata": {},
     "output_type": "display_data"
    }
   ],
   "source": [
    "import matplotlib.pyplot as plt\n",
    "import pylab\n",
    "pylab.rcParams['figure.figsize'] = (15.0, 8.0) # 显示大小\n",
    "lgb.plot_importance(booster=model)"
   ]
  },
  {
   "cell_type": "code",
   "execution_count": 22,
   "metadata": {},
   "outputs": [],
   "source": [
    "def draw(real, pre, skip=0, n=10):\n",
    "    al = []\n",
    "    for i in range(n):\n",
    "        al.append(i)\n",
    "\n",
    "    ax1 = plt.subplot(221)\n",
    "    ax1.set_title('pre')   \n",
    "    ax1.plot(al, pre[skip:skip+n], 'r', label='pre')\n",
    "    ax1.legend(bbox_to_anchor=[1, 1])  \n",
    "    ax1.grid() \n",
    "\n",
    "    ax2 = plt.subplot(222)\n",
    "    ax2.set_title('real')   \n",
    "    ax2.plot(al, real[skip:skip+n].tolist(), 'b', label='real')\n",
    "    ax2.legend(bbox_to_anchor=[1, 1])  \n",
    "    ax2.grid() \n",
    "\n",
    "    ax3 = plt.subplot(212)\n",
    "    ax3.set_title('pre & real')   \n",
    "    ax3.plot(al, pre[skip:skip+n], 'r', label='pre')\n",
    "    ax3.plot(al, real[skip:skip+n].tolist(), 'b', label='real')\n",
    "    ax3.legend(bbox_to_anchor=[1, 1])  \n",
    "    ax3.grid() \n",
    "\n",
    "    plt.show()"
   ]
  },
  {
   "cell_type": "code",
   "execution_count": 24,
   "metadata": {},
   "outputs": [
    {
     "data": {
      "image/png": "[encoded data removed]",
      "text/plain": [
       "<Figure size 1080x576 with 3 Axes>"
      ]
     },
     "metadata": {},
     "output_type": "display_data"
    }
   ],
   "source": [
    "draw(test_y, pre, skip=226, n=300)"
   ]
  },
  {
   "cell_type": "code",
   "execution_count": null,
   "metadata": {},
   "outputs": [],
   "source": []
  }
 ],
 "metadata": {
  "kernelspec": {
   "display_name": "Python 3",
   "language": "python",
   "name": "python3"
  },
  "language_info": {
   "codemirror_mode": {
    "name": "ipython",
    "version": 3
   },
   "file_extension": ".py",
   "mimetype": "text/x-python",
   "name": "python",
   "nbconvert_exporter": "python",
   "pygments_lexer": "ipython3",
   "version": "3.6.4"
  }
 },
 "nbformat": 4,
 "nbformat_minor": 2
}
