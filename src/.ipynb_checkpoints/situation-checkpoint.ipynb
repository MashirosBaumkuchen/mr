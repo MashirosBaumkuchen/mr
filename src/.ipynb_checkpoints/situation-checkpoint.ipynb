{
 "cells": [
  {
   "cell_type": "code",
   "execution_count": 3,
   "metadata": {},
   "outputs": [],
   "source": [
    "import pandas as pd"
   ]
  },
  {
   "cell_type": "code",
   "execution_count": 4,
   "metadata": {},
   "outputs": [],
   "source": [
    "sit = pd.read_excel('../input/situation.xlsx')"
   ]
  },
  {
   "cell_type": "code",
   "execution_count": 5,
   "metadata": {},
   "outputs": [
    {
     "data": {
      "text/html": [
       "<div>\n",
       "<style>\n",
       "    .dataframe thead tr:only-child th {\n",
       "        text-align: right;\n",
       "    }\n",
       "\n",
       "    .dataframe thead th {\n",
       "        text-align: left;\n",
       "    }\n",
       "\n",
       "    .dataframe tbody tr th {\n",
       "        vertical-align: top;\n",
       "    }\n",
       "</style>\n",
       "<table border=\"1\" class=\"dataframe\">\n",
       "  <thead>\n",
       "    <tr style=\"text-align: right;\">\n",
       "      <th></th>\n",
       "      <th>场景类型</th>\n",
       "      <th>名称</th>\n",
       "      <th>地市</th>\n",
       "      <th>区县</th>\n",
       "      <th>CGI</th>\n",
       "      <th>小区名</th>\n",
       "    </tr>\n",
       "  </thead>\n",
       "  <tbody>\n",
       "    <tr>\n",
       "      <th>0</th>\n",
       "      <td>重点保障场景</td>\n",
       "      <td>中电投云南国际电力投资有限公司</td>\n",
       "      <td>昆明</td>\n",
       "      <td>盘龙区</td>\n",
       "      <td>460-00-565232-22</td>\n",
       "      <td>盘龙区北市区第一人民医院-LHHQ-022</td>\n",
       "    </tr>\n",
       "    <tr>\n",
       "      <th>1</th>\n",
       "      <td>重点保障场景</td>\n",
       "      <td>中电投云南国际电力投资有限公司</td>\n",
       "      <td>昆明</td>\n",
       "      <td>盘龙区</td>\n",
       "      <td>460-00-565232-21</td>\n",
       "      <td>盘龙区北市区第一人民医院-LHHQ-021</td>\n",
       "    </tr>\n",
       "    <tr>\n",
       "      <th>2</th>\n",
       "      <td>重点保障场景</td>\n",
       "      <td>中电投云南国际电力投资有限公司</td>\n",
       "      <td>昆明</td>\n",
       "      <td>盘龙区</td>\n",
       "      <td>460-00-566755-6</td>\n",
       "      <td>盘龙区罗丈村-LHHQ-006</td>\n",
       "    </tr>\n",
       "    <tr>\n",
       "      <th>3</th>\n",
       "      <td>重点保障场景</td>\n",
       "      <td>中电投云南国际电力投资有限公司</td>\n",
       "      <td>昆明</td>\n",
       "      <td>盘龙区</td>\n",
       "      <td>460-00-565137-11</td>\n",
       "      <td>盘龙区江东好世界-LHSQ-011</td>\n",
       "    </tr>\n",
       "    <tr>\n",
       "      <th>4</th>\n",
       "      <td>重点保障场景</td>\n",
       "      <td>中电投云南国际电力投资有限公司</td>\n",
       "      <td>昆明</td>\n",
       "      <td>盘龙区</td>\n",
       "      <td>460-00-673642-131</td>\n",
       "      <td>盘龙区江东四季园路路灯-LHHQ-131</td>\n",
       "    </tr>\n",
       "  </tbody>\n",
       "</table>\n",
       "</div>"
      ],
      "text/plain": [
       "     场景类型               名称  地市   区县                CGI                    小区名\n",
       "0  重点保障场景  中电投云南国际电力投资有限公司  昆明  盘龙区   460-00-565232-22  盘龙区北市区第一人民医院-LHHQ-022\n",
       "1  重点保障场景  中电投云南国际电力投资有限公司  昆明  盘龙区   460-00-565232-21  盘龙区北市区第一人民医院-LHHQ-021\n",
       "2  重点保障场景  中电投云南国际电力投资有限公司  昆明  盘龙区    460-00-566755-6        盘龙区罗丈村-LHHQ-006\n",
       "3  重点保障场景  中电投云南国际电力投资有限公司  昆明  盘龙区   460-00-565137-11      盘龙区江东好世界-LHSQ-011\n",
       "4  重点保障场景  中电投云南国际电力投资有限公司  昆明  盘龙区  460-00-673642-131   盘龙区江东四季园路路灯-LHHQ-131"
      ]
     },
     "execution_count": 5,
     "metadata": {},
     "output_type": "execute_result"
    }
   ],
   "source": [
    "sit.head()"
   ]
  },
  {
   "cell_type": "code",
   "execution_count": 6,
   "metadata": {},
   "outputs": [
    {
     "data": {
      "text/plain": [
       "Index(['场景类型', '名称', '地市', '区县', 'CGI', '小区名'], dtype='object')"
      ]
     },
     "execution_count": 6,
     "metadata": {},
     "output_type": "execute_result"
    }
   ],
   "source": [
    "sit.columns"
   ]
  },
  {
   "cell_type": "code",
   "execution_count": 8,
   "metadata": {},
   "outputs": [
    {
     "data": {
      "text/plain": [
       "(305561, 6)"
      ]
     },
     "execution_count": 8,
     "metadata": {},
     "output_type": "execute_result"
    }
   ],
   "source": [
    "sit.shape"
   ]
  },
  {
   "cell_type": "code",
   "execution_count": null,
   "metadata": {},
   "outputs": [],
   "source": []
  },
  {
   "cell_type": "code",
   "execution_count": 7,
   "metadata": {},
   "outputs": [
    {
     "data": {
      "text/plain": [
       "array(['重点保障场景', '地铁', '高速', '高校', '医院', '风景区', '交通枢纽', '居民区', '城区', '农村'],\n",
       "      dtype=object)"
      ]
     },
     "execution_count": 7,
     "metadata": {},
     "output_type": "execute_result"
    }
   ],
   "source": [
    "sit['场景类型'].unique()"
   ]
  },
  {
   "cell_type": "code",
   "execution_count": null,
   "metadata": {},
   "outputs": [],
   "source": [
    "sit['名称']"
   ]
  }
 ],
 "metadata": {
  "kernelspec": {
   "display_name": "Python 3",
   "language": "python",
   "name": "python3"
  },
  "language_info": {
   "codemirror_mode": {
    "name": "ipython",
    "version": 3
   },
   "file_extension": ".py",
   "mimetype": "text/x-python",
   "name": "python",
   "nbconvert_exporter": "python",
   "pygments_lexer": "ipython3",
   "version": "3.6.4"
  }
 },
 "nbformat": 4,
 "nbformat_minor": 2
}
