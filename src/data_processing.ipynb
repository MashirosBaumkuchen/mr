{
 "cells": [
  {
   "cell_type": "code",
   "execution_count": 21,
   "metadata": {},
   "outputs": [],
   "source": [
    "import pandas as pd"
   ]
  },
  {
   "cell_type": "code",
   "execution_count": 22,
   "metadata": {},
   "outputs": [],
   "source": [
    "label = pd.read_csv('../input/labels.csv', encoding='gbk')"
   ]
  },
  {
   "cell_type": "code",
   "execution_count": 27,
   "metadata": {},
   "outputs": [
    {
     "data": {
      "text/plain": [
       "Index(['时间', '省份', '地市', '区县', 'Enodeb标识符', 'Eutrancell标识符',\n",
       "       'MR下行弱覆盖比例(弱于-110dBm)', 'MR下行良好覆盖比例(强于-90dBm)',\n",
       "       'MR上行干扰比例(eNB接收干扰功率>-105)', 'R上行丢包率(>1%)', 'MR上行丢包率(>5%)',\n",
       "       'MR下行丢包率(>1%)', 'MR下行丢包率(>5%)', '上行信噪比平均值', 'C1_NUMERATOR',\n",
       "       'C1_DENOMINATOR', 'C2_NUMERATOR', 'C2_DENOMINATOR', 'C3_NUMERATOR',\n",
       "       'C3_DENOMINATOR', 'C4_NUMERATOR', 'C4_DENOMINATOR', 'C5_NUMERATOR',\n",
       "       'C5_DENOMINATOR', 'C6_NUMERATOR', 'C6_DENOMINATOR', 'C7_NUMERATOR',\n",
       "       'C7_DENOMINATOR', 'INT_ID'],\n",
       "      dtype='object')"
      ]
     },
     "execution_count": 27,
     "metadata": {},
     "output_type": "execute_result"
    }
   ],
   "source": [
    "label.columns"
   ]
  },
  {
   "cell_type": "code",
   "execution_count": 43,
   "metadata": {},
   "outputs": [
    {
     "data": {
      "text/plain": [
       "75726"
      ]
     },
     "execution_count": 43,
     "metadata": {},
     "output_type": "execute_result"
    }
   ],
   "source": [
    "len(label['Enodeb标识符'].unique())"
   ]
  },
  {
   "cell_type": "code",
   "execution_count": 28,
   "metadata": {},
   "outputs": [
    {
     "data": {
      "text/plain": [
       "array(['云南省'], dtype=object)"
      ]
     },
     "execution_count": 28,
     "metadata": {},
     "output_type": "execute_result"
    }
   ],
   "source": [
    "label['省份'].unique()"
   ]
  },
  {
   "cell_type": "code",
   "execution_count": 24,
   "metadata": {},
   "outputs": [
    {
     "data": {
      "text/plain": [
       "array(['版纳', '保山', '楚雄', '大理', '德宏', '迪庆', '红河', '昆明', '丽江', '临沧', '怒江',\n",
       "       '普洱', '曲靖', '文山', '玉溪', '昭通'], dtype=object)"
      ]
     },
     "execution_count": 24,
     "metadata": {},
     "output_type": "execute_result"
    }
   ],
   "source": [
    "label['地市'].unique()"
   ]
  },
  {
   "cell_type": "code",
   "execution_count": 25,
   "metadata": {},
   "outputs": [
    {
     "data": {
      "text/plain": [
       "array(['2018/3/1 0:00'], dtype=object)"
      ]
     },
     "execution_count": 25,
     "metadata": {},
     "output_type": "execute_result"
    }
   ],
   "source": [
    "label['时间'].unique()"
   ]
  },
  {
   "cell_type": "code",
   "execution_count": 41,
   "metadata": {},
   "outputs": [
    {
     "data": {
      "text/plain": [
       "(270820, 29)"
      ]
     },
     "execution_count": 41,
     "metadata": {},
     "output_type": "execute_result"
    }
   ],
   "source": [
    "label.shape"
   ]
  },
  {
   "cell_type": "code",
   "execution_count": 26,
   "metadata": {},
   "outputs": [
    {
     "data": {
      "text/plain": [
       "array(['景洪市', '勐海县', '勐腊县', '施甸县', '隆阳区', '腾冲县', '昌宁县', '龙陵县', '双柏县',\n",
       "       '元谋县', '姚安县', '大姚县', '南华县', '武定县', '楚雄市', '禄丰县', '牟定县', '永仁县',\n",
       "       '宾川县', '永平县', '祥云县', '云龙县', '大理市', '洱源县', '大理古城区', '南涧县', '鹤庆县',\n",
       "       '弥渡县', '漾濞县', '巍山县', '剑川县', '陇川县', '芒市', '梁河县', '盈江县', '瑞丽市',\n",
       "       '德钦县', '香格里拉县', '维西县', '蒙自县', '绿春县', '弥勒县', '个旧市', '建水县', '开远市',\n",
       "       '泸西县', '石屏县', '元阳县', '屏边县', '金平县', '红河县', '河口县', '官渡区', '呈贡县',\n",
       "       '西山区', '五华区', '盘龙区', '嵩明县', '禄劝县', '寻甸县', '石林县', '富民县', '宜良县',\n",
       "       '晋宁县', '安宁市', '东川区', '宁蒗县', '古城区', '永胜县', '玉龙县', '华坪县', '永德县',\n",
       "       '临翔区', '凤庆县', '云县', '镇康县', '耿马县', '沧源县', '双江县', '贡山县', '泸水县',\n",
       "       '兰坪县', '福贡县', '西盟县', '澜沧县', '景东县', '思茅区', '江城县', '景谷县', '墨江县',\n",
       "       '孟连县', '宁洱县', '镇沅县', '沾益县', '富源县', '会泽县', '罗平县', '师宗县', '陆良县',\n",
       "       '马龙县', '麒麟区', '宣威市', '丘北县', '广南县', '西畴县', '文山市', '砚山县', '麻栗坡县',\n",
       "       '富宁县', '马关县', '红塔区', '元江县', '峨山县', '通海县', '华宁县', '江川县', '易门县',\n",
       "       '澄江县', '新平县', '绥江县', '镇雄县', '彝良县', '昭阳区', '永善县', '鲁甸县', '威信县',\n",
       "       '大关县', '盐津县', '巧家县', '水富县'], dtype=object)"
      ]
     },
     "execution_count": 26,
     "metadata": {},
     "output_type": "execute_result"
    }
   ],
   "source": [
    "label['区县'].unique()"
   ]
  },
  {
   "cell_type": "code",
   "execution_count": 16,
   "metadata": {},
   "outputs": [],
   "source": [
    "nulls = label[['MR下行弱覆盖比例(弱于-110dBm)', 'MR下行良好覆盖比例(强于-90dBm)']].isnull().sum()"
   ]
  },
  {
   "cell_type": "code",
   "execution_count": 17,
   "metadata": {},
   "outputs": [
    {
     "data": {
      "text/plain": [
       "MR下行弱覆盖比例(弱于-110dBm)    11464\n",
       "MR下行良好覆盖比例(强于-90dBm)    11464\n",
       "dtype: int64"
      ]
     },
     "execution_count": 17,
     "metadata": {},
     "output_type": "execute_result"
    }
   ],
   "source": [
    "nulls"
   ]
  },
  {
   "cell_type": "code",
   "execution_count": 18,
   "metadata": {},
   "outputs": [],
   "source": [
    "mr_low = label[['MR下行弱覆盖比例(弱于-110dBm)']].rename(columns={'MR下行弱覆盖比例(弱于-110dBm)':'mr_low'})\n",
    "mr_normal = label[['MR下行良好覆盖比例(强于-90dBm)']].rename(columns={'MR下行良好覆盖比例(强于-90dBm)':'mr_normal'})"
   ]
  },
  {
   "cell_type": "code",
   "execution_count": 19,
   "metadata": {},
   "outputs": [
    {
     "data": {
      "text/plain": [
       "3399"
      ]
     },
     "execution_count": 19,
     "metadata": {},
     "output_type": "execute_result"
    }
   ],
   "source": [
    "import gc\n",
    "del label\n",
    "gc.collect()"
   ]
  },
  {
   "cell_type": "code",
   "execution_count": 29,
   "metadata": {},
   "outputs": [],
   "source": [
    "features = ['region', 'start_time', 'CGI', 'c1', 'c2', 'c3', 'c4', 'c5', 'c6', 'c7', 'c8', 'c9', 'c10', 'c11', 'c12', 'c13',\n",
    "       'c14', 'c15', 'c16', 'c17', 'c18', 'c19', 'c20', 'c21', 'c22', 'c23', 'c24', 'c25', 'c26', 'c27']"
   ]
  },
  {
   "cell_type": "code",
   "execution_count": 30,
   "metadata": {},
   "outputs": [],
   "source": [
    "feature = pd.read_csv('../input/features.csv', encoding='gbk', skiprows=381, names=features, header=None)"
   ]
  },
  {
   "cell_type": "code",
   "execution_count": 37,
   "metadata": {},
   "outputs": [
    {
     "data": {
      "text/plain": [
       "array(['昆明'], dtype=object)"
      ]
     },
     "execution_count": 37,
     "metadata": {},
     "output_type": "execute_result"
    }
   ],
   "source": [
    "feature['region'].unique()"
   ]
  },
  {
   "cell_type": "code",
   "execution_count": 40,
   "metadata": {},
   "outputs": [
    {
     "data": {
      "text/plain": [
       "array(['2018-04-05', '2018-04-06', '2018-04-07', '2018-04-08',\n",
       "       '2018-04-09', '2018-04-10', '2018-04-11'], dtype=object)"
      ]
     },
     "execution_count": 40,
     "metadata": {},
     "output_type": "execute_result"
    }
   ],
   "source": [
    "feature['start_time'].apply(lambda x:x.split(' ')[0]).unique()"
   ]
  },
  {
   "cell_type": "code",
   "execution_count": 31,
   "metadata": {},
   "outputs": [
    {
     "data": {
      "text/html": [
       "<div>\n",
       "<style scoped>\n",
       "    .dataframe tbody tr th:only-of-type {\n",
       "        vertical-align: middle;\n",
       "    }\n",
       "\n",
       "    .dataframe tbody tr th {\n",
       "        vertical-align: top;\n",
       "    }\n",
       "\n",
       "    .dataframe thead th {\n",
       "        text-align: right;\n",
       "    }\n",
       "</style>\n",
       "<table border=\"1\" class=\"dataframe\">\n",
       "  <thead>\n",
       "    <tr style=\"text-align: right;\">\n",
       "      <th></th>\n",
       "      <th>region</th>\n",
       "      <th>start_time</th>\n",
       "      <th>CGI</th>\n",
       "      <th>c1</th>\n",
       "      <th>c2</th>\n",
       "      <th>c3</th>\n",
       "      <th>c4</th>\n",
       "      <th>c5</th>\n",
       "      <th>c6</th>\n",
       "      <th>c7</th>\n",
       "      <th>...</th>\n",
       "      <th>c18</th>\n",
       "      <th>c19</th>\n",
       "      <th>c20</th>\n",
       "      <th>c21</th>\n",
       "      <th>c22</th>\n",
       "      <th>c23</th>\n",
       "      <th>c24</th>\n",
       "      <th>c25</th>\n",
       "      <th>c26</th>\n",
       "      <th>c27</th>\n",
       "    </tr>\n",
       "  </thead>\n",
       "  <tbody>\n",
       "    <tr>\n",
       "      <th>0</th>\n",
       "      <td>昆明</td>\n",
       "      <td>2018-04-05 11:00:00</td>\n",
       "      <td>460-00-711089-131</td>\n",
       "      <td>0.0</td>\n",
       "      <td>1.0</td>\n",
       "      <td>0.0</td>\n",
       "      <td>0.0</td>\n",
       "      <td>0.0</td>\n",
       "      <td>0.0</td>\n",
       "      <td>0.0</td>\n",
       "      <td>...</td>\n",
       "      <td>0.0</td>\n",
       "      <td>0.0</td>\n",
       "      <td>0.0</td>\n",
       "      <td>0.0</td>\n",
       "      <td>0.1400</td>\n",
       "      <td>9.0</td>\n",
       "      <td>4.0</td>\n",
       "      <td>39.0</td>\n",
       "      <td>0.0</td>\n",
       "      <td>5.0</td>\n",
       "    </tr>\n",
       "    <tr>\n",
       "      <th>1</th>\n",
       "      <td>昆明</td>\n",
       "      <td>2018-04-05 11:00:00</td>\n",
       "      <td>460-00-711089-132</td>\n",
       "      <td>0.0</td>\n",
       "      <td>1.0</td>\n",
       "      <td>0.0</td>\n",
       "      <td>0.0</td>\n",
       "      <td>0.0</td>\n",
       "      <td>0.0</td>\n",
       "      <td>0.0</td>\n",
       "      <td>...</td>\n",
       "      <td>0.0</td>\n",
       "      <td>0.0</td>\n",
       "      <td>0.0</td>\n",
       "      <td>0.0</td>\n",
       "      <td>0.1411</td>\n",
       "      <td>3.0</td>\n",
       "      <td>5.0</td>\n",
       "      <td>13.0</td>\n",
       "      <td>0.0</td>\n",
       "      <td>2.0</td>\n",
       "    </tr>\n",
       "    <tr>\n",
       "      <th>2</th>\n",
       "      <td>昆明</td>\n",
       "      <td>2018-04-05 11:00:00</td>\n",
       "      <td>460-00-711089-133</td>\n",
       "      <td>0.0</td>\n",
       "      <td>1.0</td>\n",
       "      <td>0.0</td>\n",
       "      <td>0.0</td>\n",
       "      <td>0.0</td>\n",
       "      <td>0.0</td>\n",
       "      <td>0.0</td>\n",
       "      <td>...</td>\n",
       "      <td>0.0</td>\n",
       "      <td>0.0</td>\n",
       "      <td>0.0</td>\n",
       "      <td>0.0</td>\n",
       "      <td>0.1521</td>\n",
       "      <td>4.0</td>\n",
       "      <td>2.0</td>\n",
       "      <td>27.0</td>\n",
       "      <td>0.0</td>\n",
       "      <td>2.0</td>\n",
       "    </tr>\n",
       "    <tr>\n",
       "      <th>3</th>\n",
       "      <td>昆明</td>\n",
       "      <td>2018-04-05 11:00:00</td>\n",
       "      <td>460-00-711088-131</td>\n",
       "      <td>0.0</td>\n",
       "      <td>1.0</td>\n",
       "      <td>0.0</td>\n",
       "      <td>0.0</td>\n",
       "      <td>0.0</td>\n",
       "      <td>0.0</td>\n",
       "      <td>0.0</td>\n",
       "      <td>...</td>\n",
       "      <td>0.0</td>\n",
       "      <td>0.0</td>\n",
       "      <td>0.0</td>\n",
       "      <td>0.0</td>\n",
       "      <td>0.1670</td>\n",
       "      <td>7.0</td>\n",
       "      <td>3.0</td>\n",
       "      <td>4.0</td>\n",
       "      <td>0.0</td>\n",
       "      <td>4.0</td>\n",
       "    </tr>\n",
       "    <tr>\n",
       "      <th>4</th>\n",
       "      <td>昆明</td>\n",
       "      <td>2018-04-05 11:00:00</td>\n",
       "      <td>460-00-711088-132</td>\n",
       "      <td>1.0</td>\n",
       "      <td>1.0</td>\n",
       "      <td>0.0</td>\n",
       "      <td>0.0</td>\n",
       "      <td>0.0</td>\n",
       "      <td>0.0</td>\n",
       "      <td>0.0</td>\n",
       "      <td>...</td>\n",
       "      <td>0.0</td>\n",
       "      <td>0.0</td>\n",
       "      <td>0.0</td>\n",
       "      <td>0.0</td>\n",
       "      <td>0.1886</td>\n",
       "      <td>8.0</td>\n",
       "      <td>1.0</td>\n",
       "      <td>2.0</td>\n",
       "      <td>0.0</td>\n",
       "      <td>4.0</td>\n",
       "    </tr>\n",
       "  </tbody>\n",
       "</table>\n",
       "<p>5 rows × 30 columns</p>\n",
       "</div>"
      ],
      "text/plain": [
       "  region           start_time                CGI   c1   c2   c3   c4   c5  \\\n",
       "0     昆明  2018-04-05 11:00:00  460-00-711089-131  0.0  1.0  0.0  0.0  0.0   \n",
       "1     昆明  2018-04-05 11:00:00  460-00-711089-132  0.0  1.0  0.0  0.0  0.0   \n",
       "2     昆明  2018-04-05 11:00:00  460-00-711089-133  0.0  1.0  0.0  0.0  0.0   \n",
       "3     昆明  2018-04-05 11:00:00  460-00-711088-131  0.0  1.0  0.0  0.0  0.0   \n",
       "4     昆明  2018-04-05 11:00:00  460-00-711088-132  1.0  1.0  0.0  0.0  0.0   \n",
       "\n",
       "    c6   c7 ...   c18  c19  c20  c21     c22  c23  c24   c25  c26  c27  \n",
       "0  0.0  0.0 ...   0.0  0.0  0.0  0.0  0.1400  9.0  4.0  39.0  0.0  5.0  \n",
       "1  0.0  0.0 ...   0.0  0.0  0.0  0.0  0.1411  3.0  5.0  13.0  0.0  2.0  \n",
       "2  0.0  0.0 ...   0.0  0.0  0.0  0.0  0.1521  4.0  2.0  27.0  0.0  2.0  \n",
       "3  0.0  0.0 ...   0.0  0.0  0.0  0.0  0.1670  7.0  3.0   4.0  0.0  4.0  \n",
       "4  0.0  0.0 ...   0.0  0.0  0.0  0.0  0.1886  8.0  1.0   2.0  0.0  4.0  \n",
       "\n",
       "[5 rows x 30 columns]"
      ]
     },
     "execution_count": 31,
     "metadata": {},
     "output_type": "execute_result"
    }
   ],
   "source": [
    "feature.head(5)"
   ]
  },
  {
   "cell_type": "code",
   "execution_count": 62,
   "metadata": {
    "collapsed": true
   },
   "outputs": [],
   "source": [
    "# region只有昆明，目前没有意义，drop\n",
    "feature['region'].unique()\n",
    "feature = feature.drop(['region'], axis=1)"
   ]
  },
  {
   "cell_type": "code",
   "execution_count": 3,
   "metadata": {},
   "outputs": [
    {
     "ename": "NameError",
     "evalue": "name 'feature' is not defined",
     "output_type": "error",
     "traceback": [
      "\u001b[0;31m---------------------------------------------------------------------------\u001b[0m",
      "\u001b[0;31mNameError\u001b[0m                                 Traceback (most recent call last)",
      "\u001b[0;32m<ipython-input-3-dc0fab249ce6>\u001b[0m in \u001b[0;36m<module>\u001b[0;34m()\u001b[0m\n\u001b[0;32m----> 1\u001b[0;31m \u001b[0mfeature\u001b[0m\u001b[0;34m[\u001b[0m\u001b[0;34m'day'\u001b[0m\u001b[0;34m]\u001b[0m \u001b[0;34m=\u001b[0m \u001b[0mpd\u001b[0m\u001b[0;34m.\u001b[0m\u001b[0mto_datetime\u001b[0m\u001b[0;34m(\u001b[0m\u001b[0mfeature\u001b[0m\u001b[0;34m[\u001b[0m\u001b[0;34m'start_time'\u001b[0m\u001b[0;34m]\u001b[0m\u001b[0;34m)\u001b[0m\u001b[0;34m.\u001b[0m\u001b[0mdt\u001b[0m\u001b[0;34m.\u001b[0m\u001b[0mday\u001b[0m\u001b[0;34m\u001b[0m\u001b[0m\n\u001b[0m",
      "\u001b[0;31mNameError\u001b[0m: name 'feature' is not defined"
     ]
    }
   ],
   "source": [
    "feature['day'] = pd.to_datetime(feature['start_time']).dt.day"
   ]
  },
  {
   "cell_type": "code",
   "execution_count": 70,
   "metadata": {},
   "outputs": [
    {
     "data": {
      "text/plain": [
       "3804770"
      ]
     },
     "execution_count": 70,
     "metadata": {},
     "output_type": "execute_result"
    }
   ],
   "source": [
    "len(feature['start_time'].isnull())"
   ]
  },
  {
   "cell_type": "code",
   "execution_count": 72,
   "metadata": {},
   "outputs": [
    {
     "data": {
      "text/plain": [
       "count                 3804770\n",
       "unique                    593\n",
       "top       2018-04-11 10:30:00\n",
       "freq                     6435\n",
       "Name: start_time, dtype: object"
      ]
     },
     "execution_count": 72,
     "metadata": {},
     "output_type": "execute_result"
    }
   ],
   "source": [
    "feature['start_time'].describe()"
   ]
  },
  {
   "cell_type": "code",
   "execution_count": null,
   "metadata": {},
   "outputs": [],
   "source": [
    "def LGB_predict(train_x,train_y,test_x,res):\n",
    "    print('>>train...')\n",
    "    clf = lgb.LGBMClassifier(\n",
    "        boosting_type='gbdt', \n",
    "        num_leaves=31, \n",
    "        reg_alpha=0.0, \n",
    "        reg_lambda=1,\n",
    "        max_depth=-1, \n",
    "        n_estimators=1500, \n",
    "        objective='binary',\n",
    "        subsample=0.7, \n",
    "        colsample_bytree=0.7, \n",
    "        subsample_freq=1,\n",
    "        learning_rate=0.05, \n",
    "        min_child_weight=50, \n",
    "        random_state=2018, \n",
    "        n_jobs=100\n",
    "    )\n",
    "    clf.fit(train_x, train_y, eval_set=[(train_x, train_y)], eval_metric=['auc', 'logloss'],early_stopping_rounds=100)\n",
    "    \n",
    "    print('>>test...')\n",
    "    res['score'] = clf.predict_proba(test_x)[:,1]\n",
    "    res['score'] = res['score'].apply(lambda x: float('%.8f' % x))\n",
    "    res.to_csv('../output/0419/submission.csv', index=False)\n",
    "    return clf\n",
    "model=LGB_predict(train_x,train_y,test_x,res)"
   ]
  }
 ],
 "metadata": {
  "kernelspec": {
   "display_name": "Python 3",
   "language": "python",
   "name": "python3"
  },
  "language_info": {
   "codemirror_mode": {
    "name": "ipython",
    "version": 3
   },
   "file_extension": ".py",
   "mimetype": "text/x-python",
   "name": "python",
   "nbconvert_exporter": "python",
   "pygments_lexer": "ipython3",
   "version": "3.6.4"
  }
 },
 "nbformat": 4,
 "nbformat_minor": 2
}
