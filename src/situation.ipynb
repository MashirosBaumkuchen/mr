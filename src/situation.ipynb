{
 "cells": [
  {
   "cell_type": "markdown",
   "metadata": {},
   "source": [
    "# expore"
   ]
  },
  {
   "cell_type": "code",
   "execution_count": 1,
   "metadata": {},
   "outputs": [],
   "source": [
    "import pandas as pd"
   ]
  },
  {
   "cell_type": "code",
   "execution_count": 2,
   "metadata": {},
   "outputs": [],
   "source": [
    "sit = pd.read_csv('../input/situation.csv')"
   ]
  },
  {
   "cell_type": "code",
   "execution_count": 3,
   "metadata": {},
   "outputs": [
    {
     "data": {
      "text/html": [
       "<div>\n",
       "<style scoped>\n",
       "    .dataframe tbody tr th:only-of-type {\n",
       "        vertical-align: middle;\n",
       "    }\n",
       "\n",
       "    .dataframe tbody tr th {\n",
       "        vertical-align: top;\n",
       "    }\n",
       "\n",
       "    .dataframe thead th {\n",
       "        text-align: right;\n",
       "    }\n",
       "</style>\n",
       "<table border=\"1\" class=\"dataframe\">\n",
       "  <thead>\n",
       "    <tr style=\"text-align: right;\">\n",
       "      <th></th>\n",
       "      <th>场景类型</th>\n",
       "      <th>名称</th>\n",
       "      <th>地市</th>\n",
       "      <th>区县</th>\n",
       "      <th>CGI</th>\n",
       "      <th>小区名</th>\n",
       "    </tr>\n",
       "  </thead>\n",
       "  <tbody>\n",
       "    <tr>\n",
       "      <th>0</th>\n",
       "      <td>重点保障场景</td>\n",
       "      <td>中电投云南国际电力投资有限公司</td>\n",
       "      <td>昆明</td>\n",
       "      <td>盘龙区</td>\n",
       "      <td>460-00-565232-22</td>\n",
       "      <td>盘龙区北市区第一人民医院-LHHQ-022</td>\n",
       "    </tr>\n",
       "    <tr>\n",
       "      <th>1</th>\n",
       "      <td>重点保障场景</td>\n",
       "      <td>中电投云南国际电力投资有限公司</td>\n",
       "      <td>昆明</td>\n",
       "      <td>盘龙区</td>\n",
       "      <td>460-00-565232-21</td>\n",
       "      <td>盘龙区北市区第一人民医院-LHHQ-021</td>\n",
       "    </tr>\n",
       "    <tr>\n",
       "      <th>2</th>\n",
       "      <td>重点保障场景</td>\n",
       "      <td>中电投云南国际电力投资有限公司</td>\n",
       "      <td>昆明</td>\n",
       "      <td>盘龙区</td>\n",
       "      <td>460-00-566755-6</td>\n",
       "      <td>盘龙区罗丈村-LHHQ-006</td>\n",
       "    </tr>\n",
       "    <tr>\n",
       "      <th>3</th>\n",
       "      <td>重点保障场景</td>\n",
       "      <td>中电投云南国际电力投资有限公司</td>\n",
       "      <td>昆明</td>\n",
       "      <td>盘龙区</td>\n",
       "      <td>460-00-565137-11</td>\n",
       "      <td>盘龙区江东好世界-LHSQ-011</td>\n",
       "    </tr>\n",
       "    <tr>\n",
       "      <th>4</th>\n",
       "      <td>重点保障场景</td>\n",
       "      <td>中电投云南国际电力投资有限公司</td>\n",
       "      <td>昆明</td>\n",
       "      <td>盘龙区</td>\n",
       "      <td>460-00-673642-131</td>\n",
       "      <td>盘龙区江东四季园路路灯-LHHQ-131</td>\n",
       "    </tr>\n",
       "  </tbody>\n",
       "</table>\n",
       "</div>"
      ],
      "text/plain": [
       "     场景类型               名称  地市   区县                CGI                    小区名\n",
       "0  重点保障场景  中电投云南国际电力投资有限公司  昆明  盘龙区   460-00-565232-22  盘龙区北市区第一人民医院-LHHQ-022\n",
       "1  重点保障场景  中电投云南国际电力投资有限公司  昆明  盘龙区   460-00-565232-21  盘龙区北市区第一人民医院-LHHQ-021\n",
       "2  重点保障场景  中电投云南国际电力投资有限公司  昆明  盘龙区    460-00-566755-6        盘龙区罗丈村-LHHQ-006\n",
       "3  重点保障场景  中电投云南国际电力投资有限公司  昆明  盘龙区   460-00-565137-11      盘龙区江东好世界-LHSQ-011\n",
       "4  重点保障场景  中电投云南国际电力投资有限公司  昆明  盘龙区  460-00-673642-131   盘龙区江东四季园路路灯-LHHQ-131"
      ]
     },
     "execution_count": 3,
     "metadata": {},
     "output_type": "execute_result"
    }
   ],
   "source": [
    "sit.head()"
   ]
  },
  {
   "cell_type": "code",
   "execution_count": 4,
   "metadata": {},
   "outputs": [
    {
     "data": {
      "text/plain": [
       "Index(['场景类型', '名称', '地市', '区县', 'CGI', '小区名'], dtype='object')"
      ]
     },
     "execution_count": 4,
     "metadata": {},
     "output_type": "execute_result"
    }
   ],
   "source": [
    "sit.columns"
   ]
  },
  {
   "cell_type": "code",
   "execution_count": 5,
   "metadata": {},
   "outputs": [
    {
     "data": {
      "text/plain": [
       "(305561, 6)"
      ]
     },
     "execution_count": 5,
     "metadata": {},
     "output_type": "execute_result"
    }
   ],
   "source": [
    "sit.shape"
   ]
  },
  {
   "cell_type": "code",
   "execution_count": 6,
   "metadata": {},
   "outputs": [
    {
     "data": {
      "text/plain": [
       "场景类型      0\n",
       "名称        0\n",
       "地市        0\n",
       "区县       37\n",
       "CGI       0\n",
       "小区名     128\n",
       "dtype: int64"
      ]
     },
     "execution_count": 6,
     "metadata": {},
     "output_type": "execute_result"
    }
   ],
   "source": [
    "sit.isnull().sum()"
   ]
  },
  {
   "cell_type": "code",
   "execution_count": 7,
   "metadata": {},
   "outputs": [
    {
     "data": {
      "text/plain": [
       "array(['重点保障场景', '地铁', '高速', '高校', '医院', '风景区', '交通枢纽', '居民区', '城区', '农村'],\n",
       "      dtype=object)"
      ]
     },
     "execution_count": 7,
     "metadata": {},
     "output_type": "execute_result"
    }
   ],
   "source": [
    "sit['场景类型'].unique()"
   ]
  },
  {
   "cell_type": "code",
   "execution_count": 8,
   "metadata": {},
   "outputs": [
    {
     "data": {
      "text/plain": [
       "3275"
      ]
     },
     "execution_count": 8,
     "metadata": {},
     "output_type": "execute_result"
    }
   ],
   "source": [
    "len(sit['名称'].unique())"
   ]
  },
  {
   "cell_type": "code",
   "execution_count": 9,
   "metadata": {},
   "outputs": [
    {
     "data": {
      "text/plain": [
       "array(['昆明', '版纳', '保山', '楚雄', '大理', '德宏', '迪庆', '红河', '丽江', '临沧', '怒江',\n",
       "       '普洱', '曲靖', '文山', '玉溪', '昭通'], dtype=object)"
      ]
     },
     "execution_count": 9,
     "metadata": {},
     "output_type": "execute_result"
    }
   ],
   "source": [
    "sit['地市'].unique()"
   ]
  },
  {
   "cell_type": "code",
   "execution_count": 10,
   "metadata": {},
   "outputs": [
    {
     "data": {
      "text/plain": [
       "array(['盘龙区', '宜良县', '安宁市', '西山区', '官渡区', '五华区', '富民县', '晋宁县', '禄劝县',\n",
       "       '石林县', '寻甸县', '呈贡县', '嵩明县', '勐腊县', '勐海县', '景洪市', '腾冲县', '隆阳区',\n",
       "       '龙陵县', '昌宁县', '永仁县', '楚雄市', '双柏县', '牟定县', '禄丰县', '大姚县', '云龙县',\n",
       "       '永平县', '漾濞县', '祥云县', '南涧县', '弥渡县', '剑川县', '宾川县', '盈江县', '瑞丽市',\n",
       "       '芒市', '陇川县', '香格里拉县', '德钦县', '元阳县', '石屏县', '屏边县', '弥勒县', '蒙自县',\n",
       "       '绿春县', '泸西县', '开远市', '金平县', '建水县', '红河县', '个旧市', '玉龙县', '古城区',\n",
       "       '镇康县', '云县', '永德县', '临翔区', '耿马县', '凤庆县', '沧源县', '泸水县', '兰坪县',\n",
       "       '思茅区', '宁洱县', '墨江县', '澜沧县', '景谷县', '江城县', '沾益县', '宣威市', '师宗县',\n",
       "       '麒麟区', '马龙县', '罗平县', '陆良县', '会泽县', '富源县', '砚山县', '西畴县', '文山市',\n",
       "       '丘北县', '马关县', '麻栗坡县', '广南县', '富宁县', '元江县', '易门县', '新平县', '通海县',\n",
       "       '江川县', '华宁县', '红塔区', '峨山县', '澄江县', '镇雄县', '昭阳区', '永善县', '彝良县',\n",
       "       '盐津县', '威信县', '绥江县', '水富县', '巧家县', '鲁甸县', '大关县', '河口县', '施甸县',\n",
       "       '鹤庆县', '洱源县', '大理市', '梁河县', '维西县', '东川区', '元谋县', '姚安县', '武定县',\n",
       "       '南华县', '巍山县', '永胜县', '宁蒗县', '华坪县', '贡山县', '福贡县', '镇沅县', '双江县',\n",
       "       '西盟县', '孟连县', '景东县', '呈贡区', '大理古城区', nan, '蒙自市'], dtype=object)"
      ]
     },
     "execution_count": 10,
     "metadata": {},
     "output_type": "execute_result"
    }
   ],
   "source": [
    "sit['区县'].unique()"
   ]
  },
  {
   "cell_type": "code",
   "execution_count": 11,
   "metadata": {},
   "outputs": [
    {
     "data": {
      "text/plain": [
       "264138"
      ]
     },
     "execution_count": 11,
     "metadata": {},
     "output_type": "execute_result"
    }
   ],
   "source": [
    "len(sit['CGI'].unique())"
   ]
  },
  {
   "cell_type": "code",
   "execution_count": 12,
   "metadata": {},
   "outputs": [
    {
     "data": {
      "text/plain": [
       "270371"
      ]
     },
     "execution_count": 12,
     "metadata": {},
     "output_type": "execute_result"
    }
   ],
   "source": [
    "len(sit['小区名'].unique())"
   ]
  },
  {
   "cell_type": "code",
   "execution_count": 13,
   "metadata": {},
   "outputs": [],
   "source": [
    "train = pd.read_csv('../input/train.csv')"
   ]
  },
  {
   "cell_type": "code",
   "execution_count": 14,
   "metadata": {},
   "outputs": [
    {
     "data": {
      "text/html": [
       "<div>\n",
       "<style scoped>\n",
       "    .dataframe tbody tr th:only-of-type {\n",
       "        vertical-align: middle;\n",
       "    }\n",
       "\n",
       "    .dataframe tbody tr th {\n",
       "        vertical-align: top;\n",
       "    }\n",
       "\n",
       "    .dataframe thead th {\n",
       "        text-align: right;\n",
       "    }\n",
       "</style>\n",
       "<table border=\"1\" class=\"dataframe\">\n",
       "  <thead>\n",
       "    <tr style=\"text-align: right;\">\n",
       "      <th></th>\n",
       "      <th>city</th>\n",
       "      <th>region</th>\n",
       "      <th>time</th>\n",
       "      <th>cgi</th>\n",
       "      <th>voice_connection</th>\n",
       "      <th>wifi_connection</th>\n",
       "      <th>video_connection</th>\n",
       "      <th>voice_disconnection</th>\n",
       "      <th>wifi_disconnection</th>\n",
       "      <th>video_disconnection</th>\n",
       "      <th>...</th>\n",
       "      <th>prb_push</th>\n",
       "      <th>prb_pull</th>\n",
       "      <th>pdcch_cce</th>\n",
       "      <th>rrc_max</th>\n",
       "      <th>csgb_rrc</th>\n",
       "      <th>rrc_2g</th>\n",
       "      <th>rrc_3g</th>\n",
       "      <th>rrc_num</th>\n",
       "      <th>mr_low</th>\n",
       "      <th>mr_high</th>\n",
       "    </tr>\n",
       "  </thead>\n",
       "  <tbody>\n",
       "    <tr>\n",
       "      <th>0</th>\n",
       "      <td>昆明</td>\n",
       "      <td>嵩明县</td>\n",
       "      <td>2018-04-30 05:00:00</td>\n",
       "      <td>460-00-627060-22</td>\n",
       "      <td>1.000000</td>\n",
       "      <td>1.000000</td>\n",
       "      <td>NaN</td>\n",
       "      <td>0.0</td>\n",
       "      <td>0.0000</td>\n",
       "      <td>NaN</td>\n",
       "      <td>...</td>\n",
       "      <td>0.0116</td>\n",
       "      <td>0.0120</td>\n",
       "      <td>NaN</td>\n",
       "      <td>16.0</td>\n",
       "      <td>4.0</td>\n",
       "      <td>4.0</td>\n",
       "      <td>0.0</td>\n",
       "      <td>5.0</td>\n",
       "      <td>0.004261</td>\n",
       "      <td>0.257132</td>\n",
       "    </tr>\n",
       "    <tr>\n",
       "      <th>1</th>\n",
       "      <td>昆明</td>\n",
       "      <td>嵩明县</td>\n",
       "      <td>2018-04-30 03:00:00</td>\n",
       "      <td>460-00-627060-22</td>\n",
       "      <td>NaN</td>\n",
       "      <td>1.000000</td>\n",
       "      <td>NaN</td>\n",
       "      <td>NaN</td>\n",
       "      <td>0.0000</td>\n",
       "      <td>NaN</td>\n",
       "      <td>...</td>\n",
       "      <td>0.0192</td>\n",
       "      <td>0.0151</td>\n",
       "      <td>NaN</td>\n",
       "      <td>21.0</td>\n",
       "      <td>0.0</td>\n",
       "      <td>0.0</td>\n",
       "      <td>0.0</td>\n",
       "      <td>6.0</td>\n",
       "      <td>0.002041</td>\n",
       "      <td>0.312765</td>\n",
       "    </tr>\n",
       "    <tr>\n",
       "      <th>2</th>\n",
       "      <td>昆明</td>\n",
       "      <td>嵩明县</td>\n",
       "      <td>2018-04-30 04:00:00</td>\n",
       "      <td>460-00-627060-22</td>\n",
       "      <td>0.999394</td>\n",
       "      <td>0.999394</td>\n",
       "      <td>NaN</td>\n",
       "      <td>0.0</td>\n",
       "      <td>0.0000</td>\n",
       "      <td>NaN</td>\n",
       "      <td>...</td>\n",
       "      <td>0.0094</td>\n",
       "      <td>0.0098</td>\n",
       "      <td>NaN</td>\n",
       "      <td>15.0</td>\n",
       "      <td>1.0</td>\n",
       "      <td>1.0</td>\n",
       "      <td>0.0</td>\n",
       "      <td>5.0</td>\n",
       "      <td>0.002248</td>\n",
       "      <td>0.353771</td>\n",
       "    </tr>\n",
       "    <tr>\n",
       "      <th>3</th>\n",
       "      <td>昆明</td>\n",
       "      <td>嵩明县</td>\n",
       "      <td>2018-04-30 00:00:00</td>\n",
       "      <td>460-00-627060-22</td>\n",
       "      <td>1.000000</td>\n",
       "      <td>1.000000</td>\n",
       "      <td>NaN</td>\n",
       "      <td>0.0</td>\n",
       "      <td>0.0000</td>\n",
       "      <td>NaN</td>\n",
       "      <td>...</td>\n",
       "      <td>0.0383</td>\n",
       "      <td>0.0472</td>\n",
       "      <td>NaN</td>\n",
       "      <td>32.0</td>\n",
       "      <td>1.0</td>\n",
       "      <td>1.0</td>\n",
       "      <td>0.0</td>\n",
       "      <td>10.0</td>\n",
       "      <td>0.001056</td>\n",
       "      <td>0.382209</td>\n",
       "    </tr>\n",
       "    <tr>\n",
       "      <th>4</th>\n",
       "      <td>昆明</td>\n",
       "      <td>嵩明县</td>\n",
       "      <td>2018-04-30 23:00:00</td>\n",
       "      <td>460-00-627060-22</td>\n",
       "      <td>1.000000</td>\n",
       "      <td>1.000000</td>\n",
       "      <td>NaN</td>\n",
       "      <td>0.0</td>\n",
       "      <td>0.0008</td>\n",
       "      <td>NaN</td>\n",
       "      <td>...</td>\n",
       "      <td>0.1029</td>\n",
       "      <td>0.2335</td>\n",
       "      <td>NaN</td>\n",
       "      <td>39.0</td>\n",
       "      <td>6.0</td>\n",
       "      <td>6.0</td>\n",
       "      <td>0.0</td>\n",
       "      <td>13.0</td>\n",
       "      <td>0.006753</td>\n",
       "      <td>0.351172</td>\n",
       "    </tr>\n",
       "  </tbody>\n",
       "</table>\n",
       "<p>5 rows × 33 columns</p>\n",
       "</div>"
      ],
      "text/plain": [
       "  city region                 time               cgi  voice_connection  \\\n",
       "0   昆明    嵩明县  2018-04-30 05:00:00  460-00-627060-22          1.000000   \n",
       "1   昆明    嵩明县  2018-04-30 03:00:00  460-00-627060-22               NaN   \n",
       "2   昆明    嵩明县  2018-04-30 04:00:00  460-00-627060-22          0.999394   \n",
       "3   昆明    嵩明县  2018-04-30 00:00:00  460-00-627060-22          1.000000   \n",
       "4   昆明    嵩明县  2018-04-30 23:00:00  460-00-627060-22          1.000000   \n",
       "\n",
       "   wifi_connection  video_connection  voice_disconnection  wifi_disconnection  \\\n",
       "0         1.000000               NaN                  0.0              0.0000   \n",
       "1         1.000000               NaN                  NaN              0.0000   \n",
       "2         0.999394               NaN                  0.0              0.0000   \n",
       "3         1.000000               NaN                  0.0              0.0000   \n",
       "4         1.000000               NaN                  0.0              0.0008   \n",
       "\n",
       "   video_disconnection    ...     prb_push  prb_pull  pdcch_cce  rrc_max  \\\n",
       "0                  NaN    ...       0.0116    0.0120        NaN     16.0   \n",
       "1                  NaN    ...       0.0192    0.0151        NaN     21.0   \n",
       "2                  NaN    ...       0.0094    0.0098        NaN     15.0   \n",
       "3                  NaN    ...       0.0383    0.0472        NaN     32.0   \n",
       "4                  NaN    ...       0.1029    0.2335        NaN     39.0   \n",
       "\n",
       "   csgb_rrc  rrc_2g  rrc_3g  rrc_num    mr_low   mr_high  \n",
       "0       4.0     4.0     0.0      5.0  0.004261  0.257132  \n",
       "1       0.0     0.0     0.0      6.0  0.002041  0.312765  \n",
       "2       1.0     1.0     0.0      5.0  0.002248  0.353771  \n",
       "3       1.0     1.0     0.0     10.0  0.001056  0.382209  \n",
       "4       6.0     6.0     0.0     13.0  0.006753  0.351172  \n",
       "\n",
       "[5 rows x 33 columns]"
      ]
     },
     "execution_count": 14,
     "metadata": {},
     "output_type": "execute_result"
    }
   ],
   "source": [
    "train.head()"
   ]
  },
  {
   "cell_type": "code",
   "execution_count": 15,
   "metadata": {},
   "outputs": [
    {
     "data": {
      "text/html": [
       "<div>\n",
       "<style scoped>\n",
       "    .dataframe tbody tr th:only-of-type {\n",
       "        vertical-align: middle;\n",
       "    }\n",
       "\n",
       "    .dataframe tbody tr th {\n",
       "        vertical-align: top;\n",
       "    }\n",
       "\n",
       "    .dataframe thead th {\n",
       "        text-align: right;\n",
       "    }\n",
       "</style>\n",
       "<table border=\"1\" class=\"dataframe\">\n",
       "  <thead>\n",
       "    <tr style=\"text-align: right;\">\n",
       "      <th></th>\n",
       "      <th>场景类型</th>\n",
       "      <th>名称</th>\n",
       "      <th>地市</th>\n",
       "      <th>区县</th>\n",
       "      <th>CGI</th>\n",
       "      <th>小区名</th>\n",
       "    </tr>\n",
       "  </thead>\n",
       "  <tbody>\n",
       "    <tr>\n",
       "      <th>0</th>\n",
       "      <td>重点保障场景</td>\n",
       "      <td>中电投云南国际电力投资有限公司</td>\n",
       "      <td>昆明</td>\n",
       "      <td>盘龙区</td>\n",
       "      <td>460-00-565232-22</td>\n",
       "      <td>盘龙区北市区第一人民医院-LHHQ-022</td>\n",
       "    </tr>\n",
       "    <tr>\n",
       "      <th>1</th>\n",
       "      <td>重点保障场景</td>\n",
       "      <td>中电投云南国际电力投资有限公司</td>\n",
       "      <td>昆明</td>\n",
       "      <td>盘龙区</td>\n",
       "      <td>460-00-565232-21</td>\n",
       "      <td>盘龙区北市区第一人民医院-LHHQ-021</td>\n",
       "    </tr>\n",
       "    <tr>\n",
       "      <th>2</th>\n",
       "      <td>重点保障场景</td>\n",
       "      <td>中电投云南国际电力投资有限公司</td>\n",
       "      <td>昆明</td>\n",
       "      <td>盘龙区</td>\n",
       "      <td>460-00-566755-6</td>\n",
       "      <td>盘龙区罗丈村-LHHQ-006</td>\n",
       "    </tr>\n",
       "    <tr>\n",
       "      <th>3</th>\n",
       "      <td>重点保障场景</td>\n",
       "      <td>中电投云南国际电力投资有限公司</td>\n",
       "      <td>昆明</td>\n",
       "      <td>盘龙区</td>\n",
       "      <td>460-00-565137-11</td>\n",
       "      <td>盘龙区江东好世界-LHSQ-011</td>\n",
       "    </tr>\n",
       "    <tr>\n",
       "      <th>4</th>\n",
       "      <td>重点保障场景</td>\n",
       "      <td>中电投云南国际电力投资有限公司</td>\n",
       "      <td>昆明</td>\n",
       "      <td>盘龙区</td>\n",
       "      <td>460-00-673642-131</td>\n",
       "      <td>盘龙区江东四季园路路灯-LHHQ-131</td>\n",
       "    </tr>\n",
       "  </tbody>\n",
       "</table>\n",
       "</div>"
      ],
      "text/plain": [
       "     场景类型               名称  地市   区县                CGI                    小区名\n",
       "0  重点保障场景  中电投云南国际电力投资有限公司  昆明  盘龙区   460-00-565232-22  盘龙区北市区第一人民医院-LHHQ-022\n",
       "1  重点保障场景  中电投云南国际电力投资有限公司  昆明  盘龙区   460-00-565232-21  盘龙区北市区第一人民医院-LHHQ-021\n",
       "2  重点保障场景  中电投云南国际电力投资有限公司  昆明  盘龙区    460-00-566755-6        盘龙区罗丈村-LHHQ-006\n",
       "3  重点保障场景  中电投云南国际电力投资有限公司  昆明  盘龙区   460-00-565137-11      盘龙区江东好世界-LHSQ-011\n",
       "4  重点保障场景  中电投云南国际电力投资有限公司  昆明  盘龙区  460-00-673642-131   盘龙区江东四季园路路灯-LHHQ-131"
      ]
     },
     "execution_count": 15,
     "metadata": {},
     "output_type": "execute_result"
    }
   ],
   "source": [
    "sit.head()"
   ]
  },
  {
   "cell_type": "code",
   "execution_count": 16,
   "metadata": {},
   "outputs": [],
   "source": [
    "situation = sit[['场景类型', 'CGI']]"
   ]
  },
  {
   "cell_type": "code",
   "execution_count": 17,
   "metadata": {},
   "outputs": [],
   "source": [
    "situation = situation.rename(index=str, columns={'场景类型': 'type', 'CGI': 'cgi'})"
   ]
  },
  {
   "cell_type": "code",
   "execution_count": 18,
   "metadata": {},
   "outputs": [],
   "source": [
    "data = pd.merge(situation, train, on='cgi', how='inner')"
   ]
  },
  {
   "cell_type": "code",
   "execution_count": 19,
   "metadata": {},
   "outputs": [
    {
     "data": {
      "text/plain": [
       "(10888418, 34)"
      ]
     },
     "execution_count": 19,
     "metadata": {},
     "output_type": "execute_result"
    }
   ],
   "source": [
    "data.shape"
   ]
  },
  {
   "cell_type": "code",
   "execution_count": 21,
   "metadata": {},
   "outputs": [],
   "source": [
    "data.to_csv(\"../input/train_add_sit.csv\", index=False)"
   ]
  },
  {
   "cell_type": "code",
   "execution_count": 21,
   "metadata": {},
   "outputs": [
    {
     "data": {
      "text/plain": [
       "(8457665, 33)"
      ]
     },
     "execution_count": 21,
     "metadata": {},
     "output_type": "execute_result"
    }
   ],
   "source": [
    "train.shape"
   ]
  },
  {
   "cell_type": "code",
   "execution_count": 22,
   "metadata": {},
   "outputs": [
    {
     "data": {
      "text/plain": [
       "(305561, 2)"
      ]
     },
     "execution_count": 22,
     "metadata": {},
     "output_type": "execute_result"
    }
   ],
   "source": [
    "situation.shape"
   ]
  },
  {
   "cell_type": "code",
   "execution_count": 23,
   "metadata": {},
   "outputs": [
    {
     "data": {
      "text/plain": [
       "array(['重点保障场景', '城区', '居民区', '农村', '高校', '风景区', '地铁', '高速', '医院', '交通枢纽'],\n",
       "      dtype=object)"
      ]
     },
     "execution_count": 23,
     "metadata": {},
     "output_type": "execute_result"
    }
   ],
   "source": [
    "data.type.unique()"
   ]
  },
  {
   "cell_type": "code",
   "execution_count": 24,
   "metadata": {},
   "outputs": [],
   "source": [
    "comp = data[data.loc[:,('type')]=='重点保障场景']"
   ]
  },
  {
   "cell_type": "code",
   "execution_count": 25,
   "metadata": {},
   "outputs": [
    {
     "data": {
      "text/plain": [
       "(218460, 34)"
      ]
     },
     "execution_count": 25,
     "metadata": {},
     "output_type": "execute_result"
    }
   ],
   "source": [
    "comp.shape"
   ]
  },
  {
   "cell_type": "code",
   "execution_count": 26,
   "metadata": {},
   "outputs": [
    {
     "data": {
      "text/plain": [
       "array(['重点保障场景'], dtype=object)"
      ]
     },
     "execution_count": 26,
     "metadata": {},
     "output_type": "execute_result"
    }
   ],
   "source": [
    "comp['type'].unique()"
   ]
  },
  {
   "cell_type": "code",
   "execution_count": 27,
   "metadata": {},
   "outputs": [],
   "source": [
    "comp.to_csv('../input/mental.csv', index=False)"
   ]
  },
  {
   "cell_type": "code",
   "execution_count": 28,
   "metadata": {},
   "outputs": [
    {
     "data": {
      "text/plain": [
       "array(['盘龙区', '宜良县', '安宁市', '西山区', '官渡区', '五华区', '富民县', '晋宁县', '禄劝县',\n",
       "       '石林县', '寻甸县', '呈贡县', '嵩明县', '东川区'], dtype=object)"
      ]
     },
     "execution_count": 28,
     "metadata": {},
     "output_type": "execute_result"
    }
   ],
   "source": [
    "comp['region'].unique()"
   ]
  },
  {
   "cell_type": "code",
   "execution_count": 30,
   "metadata": {},
   "outputs": [],
   "source": [
    "import pandas as pd\n",
    "\n",
    "camp = pd.read_csv(\"../input/school.csv\")"
   ]
  },
  {
   "cell_type": "code",
   "execution_count": 31,
   "metadata": {},
   "outputs": [
    {
     "data": {
      "text/html": [
       "<div>\n",
       "<style scoped>\n",
       "    .dataframe tbody tr th:only-of-type {\n",
       "        vertical-align: middle;\n",
       "    }\n",
       "\n",
       "    .dataframe tbody tr th {\n",
       "        vertical-align: top;\n",
       "    }\n",
       "\n",
       "    .dataframe thead th {\n",
       "        text-align: right;\n",
       "    }\n",
       "</style>\n",
       "<table border=\"1\" class=\"dataframe\">\n",
       "  <thead>\n",
       "    <tr style=\"text-align: right;\">\n",
       "      <th></th>\n",
       "      <th>type</th>\n",
       "      <th>cgi</th>\n",
       "      <th>city</th>\n",
       "      <th>region</th>\n",
       "      <th>time</th>\n",
       "      <th>voice_connection</th>\n",
       "      <th>wifi_connection</th>\n",
       "      <th>video_connection</th>\n",
       "      <th>voice_disconnection</th>\n",
       "      <th>wifi_disconnection</th>\n",
       "      <th>...</th>\n",
       "      <th>prb_push</th>\n",
       "      <th>prb_pull</th>\n",
       "      <th>pdcch_cce</th>\n",
       "      <th>rrc_max</th>\n",
       "      <th>csgb_rrc</th>\n",
       "      <th>rrc_2g</th>\n",
       "      <th>rrc_3g</th>\n",
       "      <th>rrc_num</th>\n",
       "      <th>mr_low</th>\n",
       "      <th>mr_high</th>\n",
       "    </tr>\n",
       "  </thead>\n",
       "  <tbody>\n",
       "    <tr>\n",
       "      <th>0</th>\n",
       "      <td>高校</td>\n",
       "      <td>460-00-567220-1</td>\n",
       "      <td>昆明</td>\n",
       "      <td>官渡区</td>\n",
       "      <td>2018-04-30 18:00:00</td>\n",
       "      <td>0.998360</td>\n",
       "      <td>0.998360</td>\n",
       "      <td>NaN</td>\n",
       "      <td>0.0</td>\n",
       "      <td>0.0003</td>\n",
       "      <td>...</td>\n",
       "      <td>0.2587</td>\n",
       "      <td>0.2216</td>\n",
       "      <td>NaN</td>\n",
       "      <td>94.0</td>\n",
       "      <td>57.0</td>\n",
       "      <td>108.0</td>\n",
       "      <td>0.0</td>\n",
       "      <td>26.0</td>\n",
       "      <td>0.052080</td>\n",
       "      <td>0.301387</td>\n",
       "    </tr>\n",
       "    <tr>\n",
       "      <th>1</th>\n",
       "      <td>高校</td>\n",
       "      <td>460-00-567220-1</td>\n",
       "      <td>昆明</td>\n",
       "      <td>官渡区</td>\n",
       "      <td>2018-04-30 20:00:00</td>\n",
       "      <td>0.997812</td>\n",
       "      <td>0.997383</td>\n",
       "      <td>NaN</td>\n",
       "      <td>0.0</td>\n",
       "      <td>0.0003</td>\n",
       "      <td>...</td>\n",
       "      <td>0.3453</td>\n",
       "      <td>0.3869</td>\n",
       "      <td>NaN</td>\n",
       "      <td>105.0</td>\n",
       "      <td>70.0</td>\n",
       "      <td>145.0</td>\n",
       "      <td>0.0</td>\n",
       "      <td>30.0</td>\n",
       "      <td>0.058071</td>\n",
       "      <td>0.264752</td>\n",
       "    </tr>\n",
       "    <tr>\n",
       "      <th>2</th>\n",
       "      <td>高校</td>\n",
       "      <td>460-00-567220-1</td>\n",
       "      <td>昆明</td>\n",
       "      <td>官渡区</td>\n",
       "      <td>2018-04-30 02:00:00</td>\n",
       "      <td>NaN</td>\n",
       "      <td>0.998676</td>\n",
       "      <td>NaN</td>\n",
       "      <td>0.0</td>\n",
       "      <td>0.0021</td>\n",
       "      <td>...</td>\n",
       "      <td>0.0330</td>\n",
       "      <td>0.0880</td>\n",
       "      <td>NaN</td>\n",
       "      <td>34.0</td>\n",
       "      <td>0.0</td>\n",
       "      <td>6.0</td>\n",
       "      <td>0.0</td>\n",
       "      <td>9.0</td>\n",
       "      <td>0.041660</td>\n",
       "      <td>0.180411</td>\n",
       "    </tr>\n",
       "    <tr>\n",
       "      <th>3</th>\n",
       "      <td>高校</td>\n",
       "      <td>460-00-567220-1</td>\n",
       "      <td>昆明</td>\n",
       "      <td>官渡区</td>\n",
       "      <td>2018-04-30 05:00:00</td>\n",
       "      <td>0.999029</td>\n",
       "      <td>0.999029</td>\n",
       "      <td>NaN</td>\n",
       "      <td>0.0</td>\n",
       "      <td>0.0011</td>\n",
       "      <td>...</td>\n",
       "      <td>0.0341</td>\n",
       "      <td>0.0618</td>\n",
       "      <td>NaN</td>\n",
       "      <td>31.0</td>\n",
       "      <td>2.0</td>\n",
       "      <td>10.0</td>\n",
       "      <td>0.0</td>\n",
       "      <td>9.0</td>\n",
       "      <td>0.030780</td>\n",
       "      <td>0.204792</td>\n",
       "    </tr>\n",
       "    <tr>\n",
       "      <th>4</th>\n",
       "      <td>高校</td>\n",
       "      <td>460-00-567220-1</td>\n",
       "      <td>昆明</td>\n",
       "      <td>官渡区</td>\n",
       "      <td>2018-04-30 00:00:00</td>\n",
       "      <td>0.997761</td>\n",
       "      <td>0.997761</td>\n",
       "      <td>NaN</td>\n",
       "      <td>0.0</td>\n",
       "      <td>0.0000</td>\n",
       "      <td>...</td>\n",
       "      <td>0.1431</td>\n",
       "      <td>0.2403</td>\n",
       "      <td>NaN</td>\n",
       "      <td>80.0</td>\n",
       "      <td>5.0</td>\n",
       "      <td>19.0</td>\n",
       "      <td>0.0</td>\n",
       "      <td>17.0</td>\n",
       "      <td>0.053063</td>\n",
       "      <td>0.143302</td>\n",
       "    </tr>\n",
       "  </tbody>\n",
       "</table>\n",
       "<p>5 rows × 34 columns</p>\n",
       "</div>"
      ],
      "text/plain": [
       "  type              cgi city region                 time  voice_connection  \\\n",
       "0   高校  460-00-567220-1   昆明    官渡区  2018-04-30 18:00:00          0.998360   \n",
       "1   高校  460-00-567220-1   昆明    官渡区  2018-04-30 20:00:00          0.997812   \n",
       "2   高校  460-00-567220-1   昆明    官渡区  2018-04-30 02:00:00               NaN   \n",
       "3   高校  460-00-567220-1   昆明    官渡区  2018-04-30 05:00:00          0.999029   \n",
       "4   高校  460-00-567220-1   昆明    官渡区  2018-04-30 00:00:00          0.997761   \n",
       "\n",
       "   wifi_connection  video_connection  voice_disconnection  wifi_disconnection  \\\n",
       "0         0.998360               NaN                  0.0              0.0003   \n",
       "1         0.997383               NaN                  0.0              0.0003   \n",
       "2         0.998676               NaN                  0.0              0.0021   \n",
       "3         0.999029               NaN                  0.0              0.0011   \n",
       "4         0.997761               NaN                  0.0              0.0000   \n",
       "\n",
       "     ...     prb_push  prb_pull  pdcch_cce  rrc_max  csgb_rrc  rrc_2g  rrc_3g  \\\n",
       "0    ...       0.2587    0.2216        NaN     94.0      57.0   108.0     0.0   \n",
       "1    ...       0.3453    0.3869        NaN    105.0      70.0   145.0     0.0   \n",
       "2    ...       0.0330    0.0880        NaN     34.0       0.0     6.0     0.0   \n",
       "3    ...       0.0341    0.0618        NaN     31.0       2.0    10.0     0.0   \n",
       "4    ...       0.1431    0.2403        NaN     80.0       5.0    19.0     0.0   \n",
       "\n",
       "   rrc_num    mr_low   mr_high  \n",
       "0     26.0  0.052080  0.301387  \n",
       "1     30.0  0.058071  0.264752  \n",
       "2      9.0  0.041660  0.180411  \n",
       "3      9.0  0.030780  0.204792  \n",
       "4     17.0  0.053063  0.143302  \n",
       "\n",
       "[5 rows x 34 columns]"
      ]
     },
     "execution_count": 31,
     "metadata": {},
     "output_type": "execute_result"
    }
   ],
   "source": [
    "camp.head()"
   ]
  },
  {
   "cell_type": "code",
   "execution_count": 22,
   "metadata": {},
   "outputs": [],
   "source": [
    "import gc\n",
    "del data"
   ]
  },
  {
   "cell_type": "code",
   "execution_count": 23,
   "metadata": {},
   "outputs": [
    {
     "data": {
      "text/plain": [
       "48"
      ]
     },
     "execution_count": 23,
     "metadata": {},
     "output_type": "execute_result"
    }
   ],
   "source": [
    "gc.collect()"
   ]
  },
  {
   "cell_type": "markdown",
   "metadata": {},
   "source": [
    "# split data"
   ]
  },
  {
   "cell_type": "code",
   "execution_count": 1,
   "metadata": {},
   "outputs": [],
   "source": [
    "import numpy as np\n",
    "import pandas as pd\n",
    "data = pd.read_csv('../input/train_add_sit.csv')"
   ]
  },
  {
   "cell_type": "code",
   "execution_count": 2,
   "metadata": {},
   "outputs": [
    {
     "data": {
      "text/plain": [
       "array(['重点保障场景', '城区', '居民区', '农村', '高校', '风景区', '地铁', '高速', '医院', '交通枢纽'],\n",
       "      dtype=object)"
      ]
     },
     "execution_count": 2,
     "metadata": {},
     "output_type": "execute_result"
    }
   ],
   "source": [
    "data.type.unique()"
   ]
  },
  {
   "cell_type": "code",
   "execution_count": 3,
   "metadata": {},
   "outputs": [],
   "source": [
    "train = data[data.loc[:,('type')]=='交通枢纽']"
   ]
  },
  {
   "cell_type": "code",
   "execution_count": 4,
   "metadata": {},
   "outputs": [
    {
     "data": {
      "text/plain": [
       "(60191, 34)"
      ]
     },
     "execution_count": 4,
     "metadata": {},
     "output_type": "execute_result"
    }
   ],
   "source": [
    "train.shape"
   ]
  },
  {
   "cell_type": "code",
   "execution_count": 5,
   "metadata": {},
   "outputs": [
    {
     "data": {
      "text/plain": [
       "23"
      ]
     },
     "execution_count": 5,
     "metadata": {},
     "output_type": "execute_result"
    }
   ],
   "source": [
    "import gc\n",
    "del data\n",
    "gc.collect()"
   ]
  },
  {
   "cell_type": "markdown",
   "metadata": {},
   "source": [
    "# processing"
   ]
  },
  {
   "cell_type": "code",
   "execution_count": 6,
   "metadata": {},
   "outputs": [
    {
     "name": "stdout",
     "output_type": "stream",
     "text": [
      "format voice_connection\n",
      "format wifi_connection\n",
      "format voice_convert_1\n",
      "format convert_rate\n",
      "format rrc_connection\n",
      "format erab_connection\n",
      "format esrvcc_convert\n",
      "format voice_disconnection\n",
      "format wifi_disconnection\n",
      "format wifi_disconnection_1\n",
      "format erab_trash\n",
      "format prb_pull\n",
      "format prb_push\n",
      "format voice_pull_delay\n",
      "start scale voice_pull_delay\n",
      "format voice_count\n",
      "start scale voice_count\n",
      "format data_count\n",
      "start scale data_count\n",
      "format rrc_max\n",
      "start scale rrc_max\n",
      "format csgb_rrc\n",
      "start scale csgb_rrc\n",
      "format rrc_2g\n",
      "start scale rrc_2g\n",
      "format rrc_3g\n",
      "start scale rrc_3g\n",
      "format rrc_num\n",
      "start scale rrc_num\n",
      "format voice_push_miss\n",
      "start scale voice_push_miss\n",
      "format voice_pull_miss\n",
      "start scale voice_pull_miss\n"
     ]
    }
   ],
   "source": [
    "import matplotlib.pyplot as plt\n",
    "import seaborn as sns # for making plots with seaborn\n",
    "\n",
    "def format_(dataframe, feature, fillna='0.0', astype=np.float32, normalize=True):\n",
    "    print('format', feature)\n",
    "    dataframe[feature] = dataframe[feature].fillna(fillna)\n",
    "    dataframe[feature] = dataframe[feature].astype(np.float32)\n",
    "    if normalize:\n",
    "        dataframe.loc[dataframe[feature]>1, feature] = 1\n",
    "        dataframe.loc[dataframe[feature]<0, feature] = 0\n",
    "    return dataframe\n",
    "\n",
    "from sklearn.preprocessing import MinMaxScaler\n",
    "def normalized_feature(dataframe, feature):\n",
    "    print('start scale', feature)\n",
    "    mms = MinMaxScaler()\n",
    "    return mms.fit_transform(dataframe[feature].values.reshape(-1, 1))\n",
    "\n",
    "# rate 1\n",
    "posi_f = [\n",
    "    'voice_connection', 'wifi_connection',\n",
    "    'voice_convert_1', 'convert_rate',\n",
    "    'rrc_connection', 'erab_connection',\n",
    "    'esrvcc_convert'\n",
    "]\n",
    "\n",
    "# rate 0\n",
    "navg_f = [\n",
    "    'voice_disconnection', 'wifi_disconnection',\n",
    "    'wifi_disconnection_1',\n",
    "    'erab_trash', 'prb_pull', 'prb_push'\n",
    "]\n",
    "\n",
    "# count \n",
    "count_f = [\n",
    "    'voice_pull_delay','voice_count', 'data_count', \n",
    "    'rrc_max', 'csgb_rrc', 'rrc_2g', 'rrc_3g', 'rrc_num',\n",
    "    'voice_push_miss', 'voice_pull_miss'\n",
    "]\n",
    "\n",
    "# drop\n",
    "drop_f = [\n",
    "    'video_connection', 'video_disconnection', 'voice_convert_2', 'voice_convert_2', 'pdcch_cce'\n",
    "]\n",
    "    \n",
    "for feature in posi_f:\n",
    "    train = format_(train, feature, fillna=train[feature].mean())\n",
    "    \n",
    "for feature in navg_f:\n",
    "    train = format_(train, feature, fillna=train[feature].mean())\n",
    "    \n",
    "for feature in count_f:\n",
    "    train = format_(train, feature, fillna=train[feature].mean(), normalize=False)\n",
    "    train[feature] = normalized_feature(train, feature)\n",
    "    \n",
    "train = train.drop(drop_f, axis=1)\n",
    "\n",
    "def p(feature):\n",
    "    plt.figure(figsize=(12,5))\n",
    "    plt.title(\"Distribution of \"+feature)\n",
    "    ax = sns.distplot(train[feature])\n",
    "    \n",
    "train.mr_low = train.mr_low.astype(np.float32)\n",
    "train.mr_high = train.mr_high.astype(np.float32)"
   ]
  },
  {
   "cell_type": "code",
   "execution_count": 7,
   "metadata": {},
   "outputs": [],
   "source": [
    "# train['MCC'] = train['cgi'].apply(lambda x: str(x).split('-')[0])\n",
    "# train['MNC'] = train['cgi'].apply(lambda x: str(x).split('-')[1])\n",
    "train['ENODEB_ID'] = train['cgi'].apply(lambda x: str(x).split('-')[2])\n",
    "train['CID'] = train['cgi'].apply(lambda x: str(x).split('-')[3])\n",
    "train['ENODEB_ID'] = train['ENODEB_ID'].astype(np.int32)\n",
    "train['CID'] = train['CID'].astype(np.int32)\n",
    "\n",
    "train['datetime'] = train['time'].apply(lambda x: str(x).split(' ')[0])\n",
    "\n",
    "# train['month'] = pd.to_datetime(train['time']).dt.month\n",
    "# train['day'] = pd.to_datetime(train['time']).dt.day\n",
    "train['hour'] = pd.to_datetime(train['time']).dt.hour\n",
    "\n",
    "from sklearn.preprocessing import LabelEncoder\n",
    "train['region'] = LabelEncoder().fit_transform(train['region'])"
   ]
  },
  {
   "cell_type": "code",
   "execution_count": 8,
   "metadata": {},
   "outputs": [
    {
     "data": {
      "text/plain": [
       "array(['交通枢纽'], dtype=object)"
      ]
     },
     "execution_count": 8,
     "metadata": {},
     "output_type": "execute_result"
    }
   ],
   "source": [
    "train['type'].unique()"
   ]
  },
  {
   "cell_type": "code",
   "execution_count": 9,
   "metadata": {},
   "outputs": [],
   "source": [
    "train = train.drop(['city', 'cgi', 'time', 'type'], axis=1)"
   ]
  },
  {
   "cell_type": "code",
   "execution_count": 10,
   "metadata": {},
   "outputs": [],
   "source": [
    "num_f = posi_f + navg_f + count_f"
   ]
  },
  {
   "cell_type": "code",
   "execution_count": 11,
   "metadata": {},
   "outputs": [],
   "source": [
    "cat_f = [\n",
    "    'region', 'ENODEB_ID', 'CID', 'hour'\n",
    "]"
   ]
  },
  {
   "cell_type": "code",
   "execution_count": 12,
   "metadata": {},
   "outputs": [
    {
     "data": {
      "text/plain": [
       "(60191, 30)"
      ]
     },
     "execution_count": 12,
     "metadata": {},
     "output_type": "execute_result"
    }
   ],
   "source": [
    "train.shape"
   ]
  },
  {
   "cell_type": "markdown",
   "metadata": {},
   "source": [
    "#### datetime window "
   ]
  },
  {
   "cell_type": "code",
   "execution_count": 13,
   "metadata": {},
   "outputs": [],
   "source": [
    "test_set = train[train.loc[:,('datetime')]=='2018-05-06']\n",
    "\n",
    "train_set = train[train.loc[:,('datetime')]=='2018-05-05']\n",
    "train_set = pd.concat([train_set, train[train.loc[:,('datetime')]=='2018-05-04']])\n",
    "train_set = pd.concat([train_set, train[train.loc[:,('datetime')]=='2018-05-03']])\n",
    "train_set = pd.concat([train_set, train[train.loc[:,('datetime')]=='2018-05-02']])\n",
    "train_set = pd.concat([train_set, train[train.loc[:,('datetime')]=='2018-05-01']])\n",
    "train_set = pd.concat([train_set, train[train.loc[:,('datetime')]=='2018-04-30']])\n",
    "\n",
    "test_set = test_set.drop(['datetime'], axis=1)\n",
    "train_set = train_set.drop(['datetime'], axis=1)"
   ]
  },
  {
   "cell_type": "markdown",
   "metadata": {},
   "source": [
    "#### split data for mr_low&mr_high"
   ]
  },
  {
   "cell_type": "code",
   "execution_count": 14,
   "metadata": {},
   "outputs": [],
   "source": [
    "import lightgbm as lgb\n",
    "from sklearn import metrics\n",
    "from sklearn.model_selection import train_test_split\n",
    "import gc\n",
    "\n",
    "test_y_low = test_set['mr_low']\n",
    "test_y_high = test_set['mr_high']\n",
    "test_x = test_set.drop(['mr_low', 'mr_high'], axis=1)\n",
    "\n",
    "train_y_low = train_set['mr_low']\n",
    "train_y_high = train_set['mr_high']\n",
    "train_x = train_set.drop(['mr_low', 'mr_high'], axis=1)"
   ]
  },
  {
   "cell_type": "code",
   "execution_count": 15,
   "metadata": {},
   "outputs": [
    {
     "data": {
      "text/plain": [
       "94"
      ]
     },
     "execution_count": 15,
     "metadata": {},
     "output_type": "execute_result"
    }
   ],
   "source": [
    "trainx, validx, trainy, validy = train_test_split(\n",
    "    train_x, \n",
    "    train_y_high, \n",
    "    test_size=0.1, \n",
    "    random_state=432423\n",
    ")\n",
    "\n",
    "import gc\n",
    "del train\n",
    "del train_set\n",
    "del test_set\n",
    "gc.collect()"
   ]
  },
  {
   "cell_type": "code",
   "execution_count": 16,
   "metadata": {},
   "outputs": [
    {
     "data": {
      "text/plain": [
       "(44548, 27)"
      ]
     },
     "execution_count": 16,
     "metadata": {},
     "output_type": "execute_result"
    }
   ],
   "source": [
    "trainx.shape"
   ]
  },
  {
   "cell_type": "code",
   "execution_count": 17,
   "metadata": {},
   "outputs": [
    {
     "data": {
      "text/plain": [
       "(4950, 27)"
      ]
     },
     "execution_count": 17,
     "metadata": {},
     "output_type": "execute_result"
    }
   ],
   "source": [
    "validx.shape"
   ]
  },
  {
   "cell_type": "code",
   "execution_count": 18,
   "metadata": {},
   "outputs": [
    {
     "data": {
      "text/plain": [
       "(10693, 27)"
      ]
     },
     "execution_count": 18,
     "metadata": {},
     "output_type": "execute_result"
    }
   ],
   "source": [
    "test_x.shape"
   ]
  },
  {
   "cell_type": "markdown",
   "metadata": {},
   "source": [
    "#### gbm model"
   ]
  },
  {
   "cell_type": "code",
   "execution_count": 19,
   "metadata": {},
   "outputs": [
    {
     "name": "stderr",
     "output_type": "stream",
     "text": [
      "/Library/Frameworks/Python.framework/Versions/3.6/lib/python3.6/site-packages/lightgbm/basic.py:1036: UserWarning: Using categorical_feature in Dataset.\n",
      "  warnings.warn('Using categorical_feature in Dataset.')\n",
      "/Library/Frameworks/Python.framework/Versions/3.6/lib/python3.6/site-packages/lightgbm/basic.py:681: UserWarning: categorical_feature in param dict is overrided.\n",
      "  warnings.warn('categorical_feature in param dict is overrided.')\n"
     ]
    },
    {
     "name": "stdout",
     "output_type": "stream",
     "text": [
      "Training until validation scores don't improve for 100 rounds.\n",
      "[50]\ttrain's l2: 0.0134806\tvalid's l2: 0.0149745\n",
      "[100]\ttrain's l2: 0.0100296\tvalid's l2: 0.0124597\n",
      "[150]\ttrain's l2: 0.00846054\tvalid's l2: 0.011694\n",
      "[200]\ttrain's l2: 0.00759155\tvalid's l2: 0.0114176\n",
      "[250]\ttrain's l2: 0.00693261\tvalid's l2: 0.0112418\n",
      "[300]\ttrain's l2: 0.00644077\tvalid's l2: 0.0111594\n",
      "[350]\ttrain's l2: 0.00602653\tvalid's l2: 0.0111088\n",
      "[400]\ttrain's l2: 0.00564282\tvalid's l2: 0.0110638\n",
      "[450]\ttrain's l2: 0.00527709\tvalid's l2: 0.0110604\n",
      "[500]\ttrain's l2: 0.004978\tvalid's l2: 0.0110614\n",
      "[550]\ttrain's l2: 0.00473403\tvalid's l2: 0.0110241\n",
      "[600]\ttrain's l2: 0.00448643\tvalid's l2: 0.0110033\n",
      "[650]\ttrain's l2: 0.00426749\tvalid's l2: 0.0109823\n",
      "[700]\ttrain's l2: 0.0040464\tvalid's l2: 0.0109772\n",
      "[750]\ttrain's l2: 0.00387184\tvalid's l2: 0.0109673\n",
      "[800]\ttrain's l2: 0.00370735\tvalid's l2: 0.01097\n",
      "[850]\ttrain's l2: 0.00354085\tvalid's l2: 0.0109855\n",
      "Early stopping, best iteration is:\n",
      "[784]\ttrain's l2: 0.00376776\tvalid's l2: 0.0109648\n"
     ]
    }
   ],
   "source": [
    "train_data = lgb.Dataset(trainx, trainy, categorical_feature=cat_f)\n",
    "valid_data = lgb.Dataset(validx, validy, categorical_feature=cat_f)\n",
    "\n",
    "params = {\n",
    "#     'application': 'binary',\n",
    "    'boosting': 'gbdt',\n",
    "    'num_leaves': 80,\n",
    "    'min_data_in_leaf': 50,\n",
    "    'learning_rate': 0.05,\n",
    "    'zero_as_missing': True,\n",
    "    'lambda_l1': 0,\n",
    "    'lambda_l2': 0,\n",
    "    'metric':{'mse'}\n",
    "}\n",
    "\n",
    "model = lgb.train(\n",
    "    params, train_data, 2000,\n",
    "    valid_sets=[train_data, valid_data],\n",
    "    valid_names=['train', 'valid'],\n",
    "    verbose_eval=50,\n",
    "    early_stopping_rounds=100\n",
    ")"
   ]
  },
  {
   "cell_type": "code",
   "execution_count": 20,
   "metadata": {},
   "outputs": [],
   "source": [
    "pre = model.predict(test_x)"
   ]
  },
  {
   "cell_type": "markdown",
   "metadata": {},
   "source": [
    "#### metrics"
   ]
  },
  {
   "cell_type": "code",
   "execution_count": 21,
   "metadata": {},
   "outputs": [
    {
     "name": "stdout",
     "output_type": "stream",
     "text": [
      "0.009890718600048231\n"
     ]
    }
   ],
   "source": [
    "from sklearn import metrics\n",
    "valid_auc = metrics.mean_squared_error(test_y_high, pre)\n",
    "print(valid_auc)"
   ]
  },
  {
   "cell_type": "code",
   "execution_count": 22,
   "metadata": {},
   "outputs": [
    {
     "data": {
      "text/plain": [
       "<matplotlib.axes._subplots.AxesSubplot at 0x111d904a8>"
      ]
     },
     "execution_count": 22,
     "metadata": {},
     "output_type": "execute_result"
    },
    {
     "data": {
      "image/png": "[encoded data removed]",
      "text/plain": [
       "<Figure size 1080x576 with 1 Axes>"
      ]
     },
     "metadata": {},
     "output_type": "display_data"
    }
   ],
   "source": [
    "import matplotlib.pyplot as plt\n",
    "import pylab\n",
    "pylab.rcParams['figure.figsize'] = (15.0, 8.0) # 显示大小\n",
    "lgb.plot_importance(booster=model)"
   ]
  },
  {
   "cell_type": "code",
   "execution_count": 23,
   "metadata": {},
   "outputs": [],
   "source": [
    "def draw(real, pre, skip=0, n=10):\n",
    "    al = []\n",
    "    for i in range(n):\n",
    "        al.append(i)\n",
    "\n",
    "    ax1 = plt.subplot(221)\n",
    "    ax1.set_title('pre')   \n",
    "    ax1.plot(al, pre[skip:skip+n], 'r', label='pre')\n",
    "    ax1.legend(bbox_to_anchor=[1, 1])  \n",
    "    ax1.grid() \n",
    "\n",
    "    ax2 = plt.subplot(222)\n",
    "    ax2.set_title('real')   \n",
    "    ax2.plot(al, real[skip:skip+n].tolist(), 'b', label='real')\n",
    "    ax2.legend(bbox_to_anchor=[1, 1])  \n",
    "    ax2.grid() \n",
    "\n",
    "    ax3 = plt.subplot(212)\n",
    "    ax3.set_title('pre & real')   \n",
    "    ax3.plot(al, pre[skip:skip+n], 'r', label='pre')\n",
    "    ax3.plot(al, real[skip:skip+n].tolist(), 'b', label='real')\n",
    "    ax3.legend(bbox_to_anchor=[1, 1])  \n",
    "    ax3.grid() \n",
    "\n",
    "    plt.show()"
   ]
  },
  {
   "cell_type": "code",
   "execution_count": 24,
   "metadata": {},
   "outputs": [
    {
     "data": {
      "image/png": "[encoded data removed]",
      "text/plain": [
       "<Figure size 1080x576 with 3 Axes>"
      ]
     },
     "metadata": {},
     "output_type": "display_data"
    }
   ],
   "source": [
    "draw(test_y_high, pre, skip=226, n=300)"
   ]
  },
  {
   "cell_type": "code",
   "execution_count": null,
   "metadata": {},
   "outputs": [],
   "source": []
  },
  {
   "cell_type": "code",
   "execution_count": null,
   "metadata": {},
   "outputs": [],
   "source": []
  }
 ],
 "metadata": {
  "kernelspec": {
   "display_name": "Python 3",
   "language": "python",
   "name": "python3"
  },
  "language_info": {
   "codemirror_mode": {
    "name": "ipython",
    "version": 3
   },
   "file_extension": ".py",
   "mimetype": "text/x-python",
   "name": "python",
   "nbconvert_exporter": "python",
   "pygments_lexer": "ipython3",
   "version": "3.6.4"
  }
 },
 "nbformat": 4,
 "nbformat_minor": 2
}
