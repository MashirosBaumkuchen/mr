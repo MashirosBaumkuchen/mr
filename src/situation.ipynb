{
 "cells": [
  {
   "cell_type": "code",
   "execution_count": 17,
   "metadata": {},
   "outputs": [],
   "source": [
    "import pandas as pd"
   ]
  },
  {
   "cell_type": "code",
   "execution_count": 18,
   "metadata": {},
   "outputs": [],
   "source": [
    "sit = pd.read_excel('../input/situation.xlsx')"
   ]
  },
  {
   "cell_type": "code",
   "execution_count": 19,
   "metadata": {},
   "outputs": [
    {
     "data": {
      "text/html": [
       "<div>\n",
       "<style>\n",
       "    .dataframe thead tr:only-child th {\n",
       "        text-align: right;\n",
       "    }\n",
       "\n",
       "    .dataframe thead th {\n",
       "        text-align: left;\n",
       "    }\n",
       "\n",
       "    .dataframe tbody tr th {\n",
       "        vertical-align: top;\n",
       "    }\n",
       "</style>\n",
       "<table border=\"1\" class=\"dataframe\">\n",
       "  <thead>\n",
       "    <tr style=\"text-align: right;\">\n",
       "      <th></th>\n",
       "      <th>场景类型</th>\n",
       "      <th>名称</th>\n",
       "      <th>地市</th>\n",
       "      <th>区县</th>\n",
       "      <th>CGI</th>\n",
       "      <th>小区名</th>\n",
       "    </tr>\n",
       "  </thead>\n",
       "  <tbody>\n",
       "    <tr>\n",
       "      <th>0</th>\n",
       "      <td>重点保障场景</td>\n",
       "      <td>中电投云南国际电力投资有限公司</td>\n",
       "      <td>昆明</td>\n",
       "      <td>盘龙区</td>\n",
       "      <td>460-00-565232-22</td>\n",
       "      <td>盘龙区北市区第一人民医院-LHHQ-022</td>\n",
       "    </tr>\n",
       "    <tr>\n",
       "      <th>1</th>\n",
       "      <td>重点保障场景</td>\n",
       "      <td>中电投云南国际电力投资有限公司</td>\n",
       "      <td>昆明</td>\n",
       "      <td>盘龙区</td>\n",
       "      <td>460-00-565232-21</td>\n",
       "      <td>盘龙区北市区第一人民医院-LHHQ-021</td>\n",
       "    </tr>\n",
       "    <tr>\n",
       "      <th>2</th>\n",
       "      <td>重点保障场景</td>\n",
       "      <td>中电投云南国际电力投资有限公司</td>\n",
       "      <td>昆明</td>\n",
       "      <td>盘龙区</td>\n",
       "      <td>460-00-566755-6</td>\n",
       "      <td>盘龙区罗丈村-LHHQ-006</td>\n",
       "    </tr>\n",
       "    <tr>\n",
       "      <th>3</th>\n",
       "      <td>重点保障场景</td>\n",
       "      <td>中电投云南国际电力投资有限公司</td>\n",
       "      <td>昆明</td>\n",
       "      <td>盘龙区</td>\n",
       "      <td>460-00-565137-11</td>\n",
       "      <td>盘龙区江东好世界-LHSQ-011</td>\n",
       "    </tr>\n",
       "    <tr>\n",
       "      <th>4</th>\n",
       "      <td>重点保障场景</td>\n",
       "      <td>中电投云南国际电力投资有限公司</td>\n",
       "      <td>昆明</td>\n",
       "      <td>盘龙区</td>\n",
       "      <td>460-00-673642-131</td>\n",
       "      <td>盘龙区江东四季园路路灯-LHHQ-131</td>\n",
       "    </tr>\n",
       "  </tbody>\n",
       "</table>\n",
       "</div>"
      ],
      "text/plain": [
       "     场景类型               名称  地市   区县                CGI                    小区名\n",
       "0  重点保障场景  中电投云南国际电力投资有限公司  昆明  盘龙区   460-00-565232-22  盘龙区北市区第一人民医院-LHHQ-022\n",
       "1  重点保障场景  中电投云南国际电力投资有限公司  昆明  盘龙区   460-00-565232-21  盘龙区北市区第一人民医院-LHHQ-021\n",
       "2  重点保障场景  中电投云南国际电力投资有限公司  昆明  盘龙区    460-00-566755-6        盘龙区罗丈村-LHHQ-006\n",
       "3  重点保障场景  中电投云南国际电力投资有限公司  昆明  盘龙区   460-00-565137-11      盘龙区江东好世界-LHSQ-011\n",
       "4  重点保障场景  中电投云南国际电力投资有限公司  昆明  盘龙区  460-00-673642-131   盘龙区江东四季园路路灯-LHHQ-131"
      ]
     },
     "execution_count": 19,
     "metadata": {},
     "output_type": "execute_result"
    }
   ],
   "source": [
    "sit.head()"
   ]
  },
  {
   "cell_type": "code",
   "execution_count": 20,
   "metadata": {},
   "outputs": [
    {
     "data": {
      "text/plain": [
       "Index(['场景类型', '名称', '地市', '区县', 'CGI', '小区名'], dtype='object')"
      ]
     },
     "execution_count": 20,
     "metadata": {},
     "output_type": "execute_result"
    }
   ],
   "source": [
    "sit.columns"
   ]
  },
  {
   "cell_type": "code",
   "execution_count": 21,
   "metadata": {},
   "outputs": [
    {
     "data": {
      "text/plain": [
       "(305561, 6)"
      ]
     },
     "execution_count": 21,
     "metadata": {},
     "output_type": "execute_result"
    }
   ],
   "source": [
    "sit.shape"
   ]
  },
  {
   "cell_type": "code",
   "execution_count": 22,
   "metadata": {},
   "outputs": [
    {
     "data": {
      "text/plain": [
       "场景类型      0\n",
       "名称        0\n",
       "地市        0\n",
       "区县       37\n",
       "CGI       0\n",
       "小区名     128\n",
       "dtype: int64"
      ]
     },
     "execution_count": 22,
     "metadata": {},
     "output_type": "execute_result"
    }
   ],
   "source": [
    "sit.isnull().sum()"
   ]
  },
  {
   "cell_type": "code",
   "execution_count": 23,
   "metadata": {},
   "outputs": [
    {
     "data": {
      "text/plain": [
       "array(['重点保障场景', '地铁', '高速', '高校', '医院', '风景区', '交通枢纽', '居民区', '城区', '农村'],\n",
       "      dtype=object)"
      ]
     },
     "execution_count": 23,
     "metadata": {},
     "output_type": "execute_result"
    }
   ],
   "source": [
    "sit['场景类型'].unique()"
   ]
  },
  {
   "cell_type": "code",
   "execution_count": 24,
   "metadata": {},
   "outputs": [
    {
     "data": {
      "text/plain": [
       "3275"
      ]
     },
     "execution_count": 24,
     "metadata": {},
     "output_type": "execute_result"
    }
   ],
   "source": [
    "len(sit['名称'].unique())"
   ]
  },
  {
   "cell_type": "code",
   "execution_count": 25,
   "metadata": {},
   "outputs": [
    {
     "data": {
      "text/plain": [
       "array(['昆明', '版纳', '保山', '楚雄', '大理', '德宏', '迪庆', '红河', '丽江', '临沧', '怒江',\n",
       "       '普洱', '曲靖', '文山', '玉溪', '昭通'], dtype=object)"
      ]
     },
     "execution_count": 25,
     "metadata": {},
     "output_type": "execute_result"
    }
   ],
   "source": [
    "sit['地市'].unique()"
   ]
  },
  {
   "cell_type": "code",
   "execution_count": 26,
   "metadata": {},
   "outputs": [
    {
     "data": {
      "text/plain": [
       "array(['盘龙区', '宜良县', '安宁市', '西山区', '官渡区', '五华区', '富民县', '晋宁县', '禄劝县',\n",
       "       '石林县', '寻甸县', '呈贡县', '嵩明县', '勐腊县', '勐海县', '景洪市', '腾冲县', '隆阳区',\n",
       "       '龙陵县', '昌宁县', '永仁县', '楚雄市', '双柏县', '牟定县', '禄丰县', '大姚县', '云龙县',\n",
       "       '永平县', '漾濞县', '祥云县', '南涧县', '弥渡县', '剑川县', '宾川县', '盈江县', '瑞丽市',\n",
       "       '芒市', '陇川县', '香格里拉县', '德钦县', '元阳县', '石屏县', '屏边县', '弥勒县', '蒙自县',\n",
       "       '绿春县', '泸西县', '开远市', '金平县', '建水县', '红河县', '个旧市', '玉龙县', '古城区',\n",
       "       '镇康县', '云县', '永德县', '临翔区', '耿马县', '凤庆县', '沧源县', '泸水县', '兰坪县',\n",
       "       '思茅区', '宁洱县', '墨江县', '澜沧县', '景谷县', '江城县', '沾益县', '宣威市', '师宗县',\n",
       "       '麒麟区', '马龙县', '罗平县', '陆良县', '会泽县', '富源县', '砚山县', '西畴县', '文山市',\n",
       "       '丘北县', '马关县', '麻栗坡县', '广南县', '富宁县', '元江县', '易门县', '新平县', '通海县',\n",
       "       '江川县', '华宁县', '红塔区', '峨山县', '澄江县', '镇雄县', '昭阳区', '永善县', '彝良县',\n",
       "       '盐津县', '威信县', '绥江县', '水富县', '巧家县', '鲁甸县', '大关县', '河口县', '施甸县',\n",
       "       '鹤庆县', '洱源县', '大理市', '梁河县', '维西县', '东川区', '元谋县', '姚安县', '武定县',\n",
       "       '南华县', '巍山县', '永胜县', '宁蒗县', '华坪县', '贡山县', '福贡县', '镇沅县', '双江县',\n",
       "       '西盟县', '孟连县', '景东县', '呈贡区', '大理古城区', nan, '蒙自市'], dtype=object)"
      ]
     },
     "execution_count": 26,
     "metadata": {},
     "output_type": "execute_result"
    }
   ],
   "source": [
    "sit['区县'].unique()"
   ]
  },
  {
   "cell_type": "code",
   "execution_count": 27,
   "metadata": {},
   "outputs": [
    {
     "data": {
      "text/plain": [
       "264138"
      ]
     },
     "execution_count": 27,
     "metadata": {},
     "output_type": "execute_result"
    }
   ],
   "source": [
    "len(sit['CGI'].unique())"
   ]
  },
  {
   "cell_type": "code",
   "execution_count": 28,
   "metadata": {},
   "outputs": [
    {
     "data": {
      "text/plain": [
       "270371"
      ]
     },
     "execution_count": 28,
     "metadata": {},
     "output_type": "execute_result"
    }
   ],
   "source": [
    "len(sit['小区名'].unique())"
   ]
  },
  {
   "cell_type": "code",
   "execution_count": 29,
   "metadata": {},
   "outputs": [],
   "source": [
    "xishan = sit[sit['区县']=='西山区']"
   ]
  },
  {
   "cell_type": "code",
   "execution_count": 30,
   "metadata": {},
   "outputs": [
    {
     "data": {
      "text/plain": [
       "(8751, 6)"
      ]
     },
     "execution_count": 30,
     "metadata": {},
     "output_type": "execute_result"
    }
   ],
   "source": [
    "xishan.shape"
   ]
  },
  {
   "cell_type": "code",
   "execution_count": 31,
   "metadata": {},
   "outputs": [],
   "source": [
    "xishan = xishan.drop(['地市', '区县'], axis=1)"
   ]
  },
  {
   "cell_type": "code",
   "execution_count": 32,
   "metadata": {},
   "outputs": [
    {
     "data": {
      "text/html": [
       "<div>\n",
       "<style>\n",
       "    .dataframe thead tr:only-child th {\n",
       "        text-align: right;\n",
       "    }\n",
       "\n",
       "    .dataframe thead th {\n",
       "        text-align: left;\n",
       "    }\n",
       "\n",
       "    .dataframe tbody tr th {\n",
       "        vertical-align: top;\n",
       "    }\n",
       "</style>\n",
       "<table border=\"1\" class=\"dataframe\">\n",
       "  <thead>\n",
       "    <tr style=\"text-align: right;\">\n",
       "      <th></th>\n",
       "      <th>场景类型</th>\n",
       "      <th>名称</th>\n",
       "      <th>CGI</th>\n",
       "      <th>小区名</th>\n",
       "    </tr>\n",
       "  </thead>\n",
       "  <tbody>\n",
       "    <tr>\n",
       "      <th>25</th>\n",
       "      <td>重点保障场景</td>\n",
       "      <td>昆明市公安局西山公安分局</td>\n",
       "      <td>460-00-675165-151</td>\n",
       "      <td>西山区公安局新大楼1-LZPQ-151</td>\n",
       "    </tr>\n",
       "    <tr>\n",
       "      <th>26</th>\n",
       "      <td>重点保障场景</td>\n",
       "      <td>昆明市公安局西山公安分局</td>\n",
       "      <td>460-00-675166-151</td>\n",
       "      <td>西山区公安局新大楼2-LZPQ-151</td>\n",
       "    </tr>\n",
       "    <tr>\n",
       "      <th>27</th>\n",
       "      <td>重点保障场景</td>\n",
       "      <td>昆明市公安局西山公安分局</td>\n",
       "      <td>460-00-675166-152</td>\n",
       "      <td>西山区公安局新大楼2-LZPQ-152</td>\n",
       "    </tr>\n",
       "    <tr>\n",
       "      <th>28</th>\n",
       "      <td>重点保障场景</td>\n",
       "      <td>昆明市公安局西山公安分局</td>\n",
       "      <td>460-00-675167-151</td>\n",
       "      <td>西山区公安局新大楼3-LZPQ-151</td>\n",
       "    </tr>\n",
       "    <tr>\n",
       "      <th>29</th>\n",
       "      <td>重点保障场景</td>\n",
       "      <td>昆明市公安局西山公安分局</td>\n",
       "      <td>460-00-33969-11</td>\n",
       "      <td>西山区城市锦苑S-LZSQ-011</td>\n",
       "    </tr>\n",
       "  </tbody>\n",
       "</table>\n",
       "</div>"
      ],
      "text/plain": [
       "      场景类型            名称                CGI                  小区名\n",
       "25  重点保障场景  昆明市公安局西山公安分局  460-00-675165-151  西山区公安局新大楼1-LZPQ-151\n",
       "26  重点保障场景  昆明市公安局西山公安分局  460-00-675166-151  西山区公安局新大楼2-LZPQ-151\n",
       "27  重点保障场景  昆明市公安局西山公安分局  460-00-675166-152  西山区公安局新大楼2-LZPQ-152\n",
       "28  重点保障场景  昆明市公安局西山公安分局  460-00-675167-151  西山区公安局新大楼3-LZPQ-151\n",
       "29  重点保障场景  昆明市公安局西山公安分局    460-00-33969-11    西山区城市锦苑S-LZSQ-011"
      ]
     },
     "execution_count": 32,
     "metadata": {},
     "output_type": "execute_result"
    }
   ],
   "source": [
    "xishan.head()"
   ]
  },
  {
   "cell_type": "code",
   "execution_count": 33,
   "metadata": {},
   "outputs": [],
   "source": [
    "xishan = xishan[xishan['场景类型']!='重点保障场景']\n",
    "xishan = xishan[xishan['场景类型']!='城区']\n",
    "xishan = xishan[xishan['场景类型']!='农村']"
   ]
  },
  {
   "cell_type": "code",
   "execution_count": 34,
   "metadata": {},
   "outputs": [],
   "source": [
    "xishan = xishan.drop(['名称', '小区名'], axis=1)"
   ]
  },
  {
   "cell_type": "code",
   "execution_count": 35,
   "metadata": {},
   "outputs": [
    {
     "data": {
      "text/html": [
       "<div>\n",
       "<style>\n",
       "    .dataframe thead tr:only-child th {\n",
       "        text-align: right;\n",
       "    }\n",
       "\n",
       "    .dataframe thead th {\n",
       "        text-align: left;\n",
       "    }\n",
       "\n",
       "    .dataframe tbody tr th {\n",
       "        vertical-align: top;\n",
       "    }\n",
       "</style>\n",
       "<table border=\"1\" class=\"dataframe\">\n",
       "  <thead>\n",
       "    <tr style=\"text-align: right;\">\n",
       "      <th></th>\n",
       "      <th>场景类型</th>\n",
       "      <th>CGI</th>\n",
       "    </tr>\n",
       "  </thead>\n",
       "  <tbody>\n",
       "    <tr>\n",
       "      <th>2485</th>\n",
       "      <td>地铁</td>\n",
       "      <td>460-00-674242-131</td>\n",
       "    </tr>\n",
       "    <tr>\n",
       "      <th>2486</th>\n",
       "      <td>地铁</td>\n",
       "      <td>460-00-674244-131</td>\n",
       "    </tr>\n",
       "    <tr>\n",
       "      <th>2487</th>\n",
       "      <td>地铁</td>\n",
       "      <td>460-00-674246-131</td>\n",
       "    </tr>\n",
       "    <tr>\n",
       "      <th>2488</th>\n",
       "      <td>地铁</td>\n",
       "      <td>460-00-674248-131</td>\n",
       "    </tr>\n",
       "    <tr>\n",
       "      <th>2489</th>\n",
       "      <td>地铁</td>\n",
       "      <td>460-00-674250-131</td>\n",
       "    </tr>\n",
       "  </tbody>\n",
       "</table>\n",
       "</div>"
      ],
      "text/plain": [
       "     场景类型                CGI\n",
       "2485   地铁  460-00-674242-131\n",
       "2486   地铁  460-00-674244-131\n",
       "2487   地铁  460-00-674246-131\n",
       "2488   地铁  460-00-674248-131\n",
       "2489   地铁  460-00-674250-131"
      ]
     },
     "execution_count": 35,
     "metadata": {},
     "output_type": "execute_result"
    }
   ],
   "source": [
    "xishan.head()"
   ]
  },
  {
   "cell_type": "code",
   "execution_count": 36,
   "metadata": {},
   "outputs": [],
   "source": [
    "xishan = xishan.rename(columns={'场景类型':'type', 'CGI':'cgi'})"
   ]
  },
  {
   "cell_type": "code",
   "execution_count": 38,
   "metadata": {},
   "outputs": [
    {
     "data": {
      "text/plain": [
       "array(['地铁', '高速', '高校', '医院', '风景区', '交通枢纽', '居民区'], dtype=object)"
      ]
     },
     "execution_count": 38,
     "metadata": {},
     "output_type": "execute_result"
    }
   ],
   "source": [
    "xishan['type'].unique()"
   ]
  },
  {
   "cell_type": "code",
   "execution_count": 40,
   "metadata": {},
   "outputs": [
    {
     "data": {
      "text/plain": [
       "array(['460-00-674242-131', '460-00-674244-131', '460-00-674246-131', ...,\n",
       "       '460-00-33894-11', '460-00-675195-151', '460-00-675195-152'],\n",
       "      dtype=object)"
      ]
     },
     "execution_count": 40,
     "metadata": {},
     "output_type": "execute_result"
    }
   ],
   "source": [
    "xishan['cgi'].unique()"
   ]
  },
  {
   "cell_type": "code",
   "execution_count": 41,
   "metadata": {},
   "outputs": [],
   "source": [
    "sample = pd.read_csv('../input/train_sample.csv')"
   ]
  },
  {
   "cell_type": "code",
   "execution_count": 42,
   "metadata": {},
   "outputs": [
    {
     "data": {
      "text/html": [
       "<div>\n",
       "<style>\n",
       "    .dataframe thead tr:only-child th {\n",
       "        text-align: right;\n",
       "    }\n",
       "\n",
       "    .dataframe thead th {\n",
       "        text-align: left;\n",
       "    }\n",
       "\n",
       "    .dataframe tbody tr th {\n",
       "        vertical-align: top;\n",
       "    }\n",
       "</style>\n",
       "<table border=\"1\" class=\"dataframe\">\n",
       "  <thead>\n",
       "    <tr style=\"text-align: right;\">\n",
       "      <th></th>\n",
       "      <th>city</th>\n",
       "      <th>region</th>\n",
       "      <th>time</th>\n",
       "      <th>cgi</th>\n",
       "      <th>voice_connection</th>\n",
       "      <th>wifi_connection</th>\n",
       "      <th>video_connection</th>\n",
       "      <th>voice_disconnection</th>\n",
       "      <th>wifi_disconnection</th>\n",
       "      <th>video_disconnection</th>\n",
       "      <th>...</th>\n",
       "      <th>prb_push</th>\n",
       "      <th>prb_pull</th>\n",
       "      <th>pdcch_cce</th>\n",
       "      <th>rrc_max</th>\n",
       "      <th>csgb_rrc</th>\n",
       "      <th>rrc_2g</th>\n",
       "      <th>rrc_3g</th>\n",
       "      <th>rrc_num</th>\n",
       "      <th>mr_low</th>\n",
       "      <th>mr_high</th>\n",
       "    </tr>\n",
       "  </thead>\n",
       "  <tbody>\n",
       "    <tr>\n",
       "      <th>0</th>\n",
       "      <td>昆明</td>\n",
       "      <td>西山区</td>\n",
       "      <td>2018-04-30 16:00:00</td>\n",
       "      <td>460-00-33521-52</td>\n",
       "      <td>1.000000</td>\n",
       "      <td>0.998843</td>\n",
       "      <td>NaN</td>\n",
       "      <td>0.0</td>\n",
       "      <td>0.0</td>\n",
       "      <td>NaN</td>\n",
       "      <td>...</td>\n",
       "      <td>0.0209</td>\n",
       "      <td>0.0451</td>\n",
       "      <td>NaN</td>\n",
       "      <td>11.0</td>\n",
       "      <td>13.0</td>\n",
       "      <td>14.0</td>\n",
       "      <td>36.0</td>\n",
       "      <td>9.0</td>\n",
       "      <td>0.072508</td>\n",
       "      <td>0.168177</td>\n",
       "    </tr>\n",
       "    <tr>\n",
       "      <th>1</th>\n",
       "      <td>昆明</td>\n",
       "      <td>西山区</td>\n",
       "      <td>2018-04-30 03:00:00</td>\n",
       "      <td>460-00-33521-52</td>\n",
       "      <td>NaN</td>\n",
       "      <td>1.000000</td>\n",
       "      <td>NaN</td>\n",
       "      <td>NaN</td>\n",
       "      <td>0.0</td>\n",
       "      <td>NaN</td>\n",
       "      <td>...</td>\n",
       "      <td>0.0116</td>\n",
       "      <td>0.0188</td>\n",
       "      <td>NaN</td>\n",
       "      <td>11.0</td>\n",
       "      <td>1.0</td>\n",
       "      <td>1.0</td>\n",
       "      <td>4.0</td>\n",
       "      <td>4.0</td>\n",
       "      <td>0.056956</td>\n",
       "      <td>0.099440</td>\n",
       "    </tr>\n",
       "    <tr>\n",
       "      <th>2</th>\n",
       "      <td>昆明</td>\n",
       "      <td>西山区</td>\n",
       "      <td>2018-04-30 05:00:00</td>\n",
       "      <td>460-00-33521-52</td>\n",
       "      <td>NaN</td>\n",
       "      <td>1.000000</td>\n",
       "      <td>NaN</td>\n",
       "      <td>NaN</td>\n",
       "      <td>0.0</td>\n",
       "      <td>NaN</td>\n",
       "      <td>...</td>\n",
       "      <td>0.0095</td>\n",
       "      <td>0.0170</td>\n",
       "      <td>NaN</td>\n",
       "      <td>12.0</td>\n",
       "      <td>0.0</td>\n",
       "      <td>0.0</td>\n",
       "      <td>1.0</td>\n",
       "      <td>4.0</td>\n",
       "      <td>0.021645</td>\n",
       "      <td>0.092833</td>\n",
       "    </tr>\n",
       "    <tr>\n",
       "      <th>3</th>\n",
       "      <td>昆明</td>\n",
       "      <td>西山区</td>\n",
       "      <td>2018-04-30 23:00:00</td>\n",
       "      <td>460-00-33521-52</td>\n",
       "      <td>0.999677</td>\n",
       "      <td>0.999677</td>\n",
       "      <td>NaN</td>\n",
       "      <td>0.0</td>\n",
       "      <td>0.0</td>\n",
       "      <td>NaN</td>\n",
       "      <td>...</td>\n",
       "      <td>0.0352</td>\n",
       "      <td>0.0352</td>\n",
       "      <td>NaN</td>\n",
       "      <td>23.0</td>\n",
       "      <td>8.0</td>\n",
       "      <td>8.0</td>\n",
       "      <td>15.0</td>\n",
       "      <td>9.0</td>\n",
       "      <td>0.039878</td>\n",
       "      <td>0.099314</td>\n",
       "    </tr>\n",
       "    <tr>\n",
       "      <th>4</th>\n",
       "      <td>昆明</td>\n",
       "      <td>西山区</td>\n",
       "      <td>2018-04-30 02:00:00</td>\n",
       "      <td>460-00-33521-52</td>\n",
       "      <td>0.999489</td>\n",
       "      <td>0.999489</td>\n",
       "      <td>NaN</td>\n",
       "      <td>0.0</td>\n",
       "      <td>0.0</td>\n",
       "      <td>NaN</td>\n",
       "      <td>...</td>\n",
       "      <td>0.0128</td>\n",
       "      <td>0.0203</td>\n",
       "      <td>NaN</td>\n",
       "      <td>12.0</td>\n",
       "      <td>0.0</td>\n",
       "      <td>0.0</td>\n",
       "      <td>3.0</td>\n",
       "      <td>4.0</td>\n",
       "      <td>0.032845</td>\n",
       "      <td>0.120284</td>\n",
       "    </tr>\n",
       "  </tbody>\n",
       "</table>\n",
       "<p>5 rows × 33 columns</p>\n",
       "</div>"
      ],
      "text/plain": [
       "  city region                 time              cgi  voice_connection  \\\n",
       "0   昆明    西山区  2018-04-30 16:00:00  460-00-33521-52          1.000000   \n",
       "1   昆明    西山区  2018-04-30 03:00:00  460-00-33521-52               NaN   \n",
       "2   昆明    西山区  2018-04-30 05:00:00  460-00-33521-52               NaN   \n",
       "3   昆明    西山区  2018-04-30 23:00:00  460-00-33521-52          0.999677   \n",
       "4   昆明    西山区  2018-04-30 02:00:00  460-00-33521-52          0.999489   \n",
       "\n",
       "   wifi_connection  video_connection  voice_disconnection  wifi_disconnection  \\\n",
       "0         0.998843               NaN                  0.0                 0.0   \n",
       "1         1.000000               NaN                  NaN                 0.0   \n",
       "2         1.000000               NaN                  NaN                 0.0   \n",
       "3         0.999677               NaN                  0.0                 0.0   \n",
       "4         0.999489               NaN                  0.0                 0.0   \n",
       "\n",
       "   video_disconnection    ...     prb_push  prb_pull  pdcch_cce  rrc_max  \\\n",
       "0                  NaN    ...       0.0209    0.0451        NaN     11.0   \n",
       "1                  NaN    ...       0.0116    0.0188        NaN     11.0   \n",
       "2                  NaN    ...       0.0095    0.0170        NaN     12.0   \n",
       "3                  NaN    ...       0.0352    0.0352        NaN     23.0   \n",
       "4                  NaN    ...       0.0128    0.0203        NaN     12.0   \n",
       "\n",
       "   csgb_rrc  rrc_2g  rrc_3g  rrc_num    mr_low   mr_high  \n",
       "0      13.0    14.0    36.0      9.0  0.072508  0.168177  \n",
       "1       1.0     1.0     4.0      4.0  0.056956  0.099440  \n",
       "2       0.0     0.0     1.0      4.0  0.021645  0.092833  \n",
       "3       8.0     8.0    15.0      9.0  0.039878  0.099314  \n",
       "4       0.0     0.0     3.0      4.0  0.032845  0.120284  \n",
       "\n",
       "[5 rows x 33 columns]"
      ]
     },
     "execution_count": 42,
     "metadata": {},
     "output_type": "execute_result"
    }
   ],
   "source": [
    "sample.head()"
   ]
  },
  {
   "cell_type": "code",
   "execution_count": 43,
   "metadata": {},
   "outputs": [],
   "source": [
    "data = pd.merge(xishan, sample, on='cgi', how='inner')"
   ]
  },
  {
   "cell_type": "code",
   "execution_count": 44,
   "metadata": {},
   "outputs": [
    {
     "data": {
      "text/plain": [
       "(319587, 34)"
      ]
     },
     "execution_count": 44,
     "metadata": {},
     "output_type": "execute_result"
    }
   ],
   "source": [
    "data.shape"
   ]
  },
  {
   "cell_type": "code",
   "execution_count": 46,
   "metadata": {},
   "outputs": [
    {
     "data": {
      "text/plain": [
       "(993712, 33)"
      ]
     },
     "execution_count": 46,
     "metadata": {},
     "output_type": "execute_result"
    }
   ],
   "source": [
    "sample.shape"
   ]
  },
  {
   "cell_type": "code",
   "execution_count": 48,
   "metadata": {},
   "outputs": [
    {
     "data": {
      "text/plain": [
       "array(['地铁', '高速', '居民区', '高校', '风景区', '医院', '交通枢纽'], dtype=object)"
      ]
     },
     "execution_count": 48,
     "metadata": {},
     "output_type": "execute_result"
    }
   ],
   "source": [
    "data.type.unique()"
   ]
  },
  {
   "cell_type": "code",
   "execution_count": 51,
   "metadata": {},
   "outputs": [],
   "source": [
    "ditie = data[data.loc[:,('type')]=='地铁']"
   ]
  },
  {
   "cell_type": "code",
   "execution_count": 52,
   "metadata": {},
   "outputs": [
    {
     "data": {
      "text/plain": [
       "(1989, 34)"
      ]
     },
     "execution_count": 52,
     "metadata": {},
     "output_type": "execute_result"
    }
   ],
   "source": [
    "ditie.shape"
   ]
  },
  {
   "cell_type": "code",
   "execution_count": 53,
   "metadata": {},
   "outputs": [],
   "source": [
    "data.to_csv('../input/sit_xishan_data.csv', index=False)"
   ]
  },
  {
   "cell_type": "code",
   "execution_count": null,
   "metadata": {},
   "outputs": [],
   "source": []
  }
 ],
 "metadata": {
  "kernelspec": {
   "display_name": "Python 3",
   "language": "python",
   "name": "python3"
  },
  "language_info": {
   "codemirror_mode": {
    "name": "ipython",
    "version": 3
   },
   "file_extension": ".py",
   "mimetype": "text/x-python",
   "name": "python",
   "nbconvert_exporter": "python",
   "pygments_lexer": "ipython3",
   "version": "3.6.4"
  }
 },
 "nbformat": 4,
 "nbformat_minor": 2
}
